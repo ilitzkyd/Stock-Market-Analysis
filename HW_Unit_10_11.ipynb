{
 "cells": [
  {
   "attachments": {},
   "cell_type": "markdown",
   "metadata": {},
   "source": [
    "## Week 10 and 11 Assignment - DATASCI200 Introduction to Data Science Programming, UC Berkeley MIDS\n",
    "\n",
    "Write code in this Jupyter Notebook to solve the following problems. Please upload this **Notebook** with your solutions to your GitHub repository and provide a link in the last question in gradescope. \n",
    "\n",
    "Assignment due date: 11:59PM PT the night before the Week 12 Live Session. Do **NOT** push/upload the data file. "
   ]
  },
  {
   "attachments": {},
   "cell_type": "markdown",
   "metadata": {},
   "source": [
    "## Objectives\n",
    "\n",
    "- Explore and glean insights from a real dataset using pandas\n",
    "- Practice using pandas for exploratory analysis, information gathering, and discovery\n",
    "- Practice cleaning data and answering questions"
   ]
  },
  {
   "attachments": {},
   "cell_type": "markdown",
   "metadata": {},
   "source": [
    "## General Guidelines:\n",
    "\n",
    "- This is a **real** dataset and so it may contain errors and other pecularities to work through\n",
    "- This dataset is ~218mb, which will take some time to load (and probably won't load in Google Sheets or Excel)\n",
    "- If you make assumptions, annotate them in your responses\n",
    "- While there is one code/markdown cell positioned after each question as a placeholder, some of your code/responses may require multiple cells\n",
    "- Double-click the markdown cells that say for example **1a answer here:** to enter your written answers. If you need more cells for your written answers, make them markdown cells (rather than code cells)\n",
    "- This homework assignment is not autograded because of the variety of responses one could give. \n",
    "  - Please upload this notebook to the autograder page and the TAs will manually grade it. \n",
    "  - Ensure that each cell is run and outputs your answer for ease of grading! \n",
    "  - Highly suggest to do a `restart & run all` before uploading your code to ensure everything runs and outputs correctly.\n",
    "  - Answers without code (or code that runs) will be given 0 points.\n",
    "- **This is meant to simulate real world data so you will have to do some external research to determine what some of the answers are!** "
   ]
  },
  {
   "attachments": {},
   "cell_type": "markdown",
   "metadata": {},
   "source": [
    "## Dataset\n",
    "\n",
    "You are to analyze campaign contributions to the 2016 U.S. presidential primary races made in California. Use the csv file located here: https://drive.google.com/file/d/1Lgg-PwXQ6TQLDowd6XyBxZw5g1NGWPjB/view?usp=sharing. You should download and save this file in the same folder as this notebook is stored.  This file originally came from the U.S. Federal Election Commission (https://www.fec.gov/).\n",
    "\n",
    "**DO NOT PUSH THIS FILE TO YOUR GITHUB REPO!**\n",
    "\n",
    "- Best practice is to not have DATA files in your code repo. As shown below, the default load is outside of the folder this notebook is in. If you change the folder where the file is stored please update the first cell!\n",
    "- If you do accidentally push the file to your github repo - follow the directions here to fix it: https://docs.google.com/document/d/15Irgb5V5G7pKPWgAerH7FPMpKeQRunbNflaW-hR2hTA/edit?usp=sharing\n",
    "\n",
    "Documentation for this data can be found here: https://drive.google.com/file/d/11o_SByceenv0NgNMstM-dxC1jL7I9fHL/view?usp=sharing"
   ]
  },
  {
   "attachments": {},
   "cell_type": "markdown",
   "metadata": {},
   "source": [
    "## Data Questions\n",
    "\n",
    "You are working for a California state-wide election campaign. Your boss wants you to examine historic 2016 election contribution data to see what zipcodes are more supportive of fundraising for your candidate. \n",
    "\n",
    "Your boss asks you to filter out some of the records:\n",
    "- Only use primary 2016 contribution data (more like how your race is).\n",
    "- Concentrate on Bernie Sanders as a candidate (most a like your candidate)\n",
    "\n",
    "The questions your boss wants answered is:\n",
    "- Which zipcode (5-digit zipcode) had the highest count of contributions and the most dollar amount?\n",
    "- What day(s) of the month do most people donate?"
   ]
  },
  {
   "attachments": {},
   "cell_type": "markdown",
   "metadata": {},
   "source": [
    "## Setup\n",
    "\n",
    "Run the cell below as it will load the data into a pandas dataframe named `contrib`. Note that a custom date parser is defined to speed up loading. If Python were to guess the date format, it would take even longer to load."
   ]
  },
  {
   "cell_type": "code",
   "execution_count": null,
   "metadata": {},
   "outputs": [],
   "source": [
    "import pandas as pd\n",
    "import numpy as np\n",
    "from datetime import datetime\n",
    "\n",
    "# These commands below set some options for pandas and to have matplotlib show the charts in the notebook\n",
    "pd.set_option('display.max_rows', 1000)\n",
    "pd.options.display.float_format = '{:,.2f}'.format\n",
    "\n",
    "# Define a date parser to pass to read_csv\n",
    "d = lambda x: datetime.strptime(x, '%d-%b-%y')\n",
    "\n",
    "# Load the data\n",
    "# We have this defaulted to the folder OUTSIDE of your repo - please change it as needed\n",
    "contrib = pd.read_csv(\"/mnt/c/Users/davidilitzky.REDMOND/Berkeley/P00000001-CA.csv\", index_col=False, parse_dates=['contb_receipt_dt'], date_parser=d)\n",
    "\n",
    "# Note - for now, it is okay to ignore the warning about mixed types. "
   ]
  },
  {
   "attachments": {},
   "cell_type": "markdown",
   "metadata": {},
   "source": [
    "***\n",
    "## 1. Initial Data Checks (50 points)\n",
    "\n",
    "First we will take a preliminary look at the data to check that it was loaded correctly and contains the info we need.\n",
    "\n",
    "The questions to answer at the end of this section:\n",
    "- Do we have the correct # of columns and rows. \n",
    "- Do the records contain data for the questions we want to answer \n",
    "- What columns are important? \n",
    "- What columns can be dropped?\n",
    "- What are the data problems?"
   ]
  },
  {
   "attachments": {},
   "cell_type": "markdown",
   "metadata": {},
   "source": [
    "**1a.** Print the *shape* of the data. Does this match the expectation? (2 points)"
   ]
  },
  {
   "cell_type": "code",
   "execution_count": 2,
   "metadata": {
    "deletable": false,
    "nbgrader": {
     "checksum": "9f7a7938e43b14d3c7c49d6a278b0bb1",
     "grade": true,
     "grade_id": "cell-5d017805206f18b1",
     "locked": false,
     "points": 0,
     "schema_version": 1,
     "solution": true
    }
   },
   "outputs": [
    {
     "name": "stdout",
     "output_type": "stream",
     "text": [
      "(1125659, 18)\n"
     ]
    }
   ],
   "source": [
    "# 1a YOUR CODE HERE\n",
    "\n",
    "print(contrib.shape)"
   ]
  },
  {
   "attachments": {},
   "cell_type": "markdown",
   "metadata": {},
   "source": [
    "- **1a answer here:** \n",
    "\n",
    "The output does match the number of rows and columns of the data as expected"
   ]
  },
  {
   "attachments": {},
   "cell_type": "markdown",
   "metadata": {
    "deletable": false,
    "nbgrader": {
     "checksum": "e6a198453ec4b0171a064fef0bd7c678",
     "grade": true,
     "grade_id": "cell-3bc26919169bf4aa",
     "locked": false,
     "points": 5,
     "schema_version": 1,
     "solution": true
    }
   },
   "source": [
    "**1b.** Print a list of column names. Are all the columns included that are in the documentation? (2 points)"
   ]
  },
  {
   "cell_type": "code",
   "execution_count": 3,
   "metadata": {
    "deletable": false,
    "nbgrader": {
     "checksum": "4fbf682f1c78b3614832c6f48ecd88c7",
     "grade": true,
     "grade_id": "cell-72bc97601b84f17d",
     "locked": false,
     "points": 5,
     "schema_version": 1,
     "solution": true
    }
   },
   "outputs": [
    {
     "name": "stdout",
     "output_type": "stream",
     "text": [
      "['cmte_id', 'cand_id', 'cand_nm', 'contbr_nm', 'contbr_city', 'contbr_st', 'contbr_zip', 'contbr_employer', 'contbr_occupation', 'contb_receipt_amt', 'contb_receipt_dt', 'receipt_desc', 'memo_cd', 'memo_text', 'form_tp', 'file_num', 'tran_id', 'election_tp']\n"
     ]
    }
   ],
   "source": [
    "# 1b YOUR CODE HERE\n",
    "\n",
    "print(contrib.columns.tolist())"
   ]
  },
  {
   "attachments": {},
   "cell_type": "markdown",
   "metadata": {},
   "source": [
    "- **1b answer here:** \n",
    "\n",
    "Yes, this does print all the columns in the documentation "
   ]
  },
  {
   "attachments": {},
   "cell_type": "markdown",
   "metadata": {},
   "source": [
    "**1c** Print out the first five rows of the dataset. How do the columns `cand_id`, `cand_nm` and `contbr_st` look? (3 points)"
   ]
  },
  {
   "cell_type": "code",
   "execution_count": 4,
   "metadata": {},
   "outputs": [
    {
     "name": "stdout",
     "output_type": "stream",
     "text": [
      "     cand_id                  cand_nm contbr_st\n",
      "0  P00003392  Clinton, Hillary Rodham        CA\n",
      "1  P00003392  Clinton, Hillary Rodham        CA\n",
      "2  P00003392  Clinton, Hillary Rodham        CA\n",
      "3  P60007168         Sanders, Bernard        CA\n",
      "4  P60007168         Sanders, Bernard        CA\n"
     ]
    }
   ],
   "source": [
    "# 1c YOUR CODE HERE\n",
    "#print(contrib.head())\n",
    "print(contrib[['cand_id', 'cand_nm', 'contbr_st']].head())"
   ]
  },
  {
   "attachments": {},
   "cell_type": "markdown",
   "metadata": {},
   "source": [
    "- **1c answer here:** \n",
    "\n",
    "cand_id has the unique ID for each candidate (i.e. P00003392)\n",
    "cand_num has the name of each candidate (i.e. Bernard Sanders)\n",
    "contbr_st has the state that each candidate is part of (i.e. CA)"
   ]
  },
  {
   "attachments": {},
   "cell_type": "markdown",
   "metadata": {
    "deletable": false,
    "nbgrader": {
     "checksum": "0ec29a2cabd52709322d1cfd650babe7",
     "grade": true,
     "grade_id": "cell-23b51536d24c1645",
     "locked": false,
     "points": 0,
     "schema_version": 1,
     "solution": true
    }
   },
   "source": [
    "**1d.** Print out the values for the column `election_tp`. In your own words, based on the documentation, what information does the `election_tp` variable contain? Do the values in the column match the documentation? (3 points)"
   ]
  },
  {
   "cell_type": "code",
   "execution_count": 5,
   "metadata": {},
   "outputs": [
    {
     "name": "stdout",
     "output_type": "stream",
     "text": [
      "['P2016' 'G2016' nan 'P2020']\n"
     ]
    }
   ],
   "source": [
    "# 1d YOUR CODE HERE\n",
    "print(contrib['election_tp'].unique())"
   ]
  },
  {
   "attachments": {},
   "cell_type": "markdown",
   "metadata": {
    "deletable": false,
    "nbgrader": {
     "checksum": "cfa64002e64474584dc1442b5a39b460",
     "grade": true,
     "grade_id": "cell-8a320c2ff7c24d98",
     "locked": false,
     "points": 0,
     "schema_version": 1,
     "solution": true
    }
   },
   "source": [
    "- **1d answer here:** \n",
    "\n",
    "Eleciton_tp holds the election type/primary general indicator. The values do match with the documentation provided."
   ]
  },
  {
   "attachments": {},
   "cell_type": "markdown",
   "metadata": {
    "deletable": false,
    "nbgrader": {
     "checksum": "442b24601da06376c43cbe6ef5c5348a",
     "grade": true,
     "grade_id": "cell-6a453219105384dd",
     "locked": false,
     "points": 0,
     "schema_version": 1,
     "solution": true
    }
   },
   "source": [
    "**1e.** Print out the datatypes for all of the columns. What are the datatypes for the `contbr_zip`, `contb_receipt_amt`, `contb_receipt_dt`? (5 points)"
   ]
  },
  {
   "cell_type": "code",
   "execution_count": 6,
   "metadata": {
    "deletable": false,
    "nbgrader": {
     "checksum": "c5a1b7f30648cced7269ccb9b1532bd6",
     "grade": true,
     "grade_id": "cell-90c49bd6471a3dc9",
     "locked": false,
     "points": 0,
     "schema_version": 1,
     "solution": true
    }
   },
   "outputs": [
    {
     "name": "stdout",
     "output_type": "stream",
     "text": [
      "cmte_id                      object\n",
      "cand_id                      object\n",
      "cand_nm                      object\n",
      "contbr_nm                    object\n",
      "contbr_city                  object\n",
      "contbr_st                    object\n",
      "contbr_zip                   object\n",
      "contbr_employer              object\n",
      "contbr_occupation            object\n",
      "contb_receipt_amt           float64\n",
      "contb_receipt_dt     datetime64[ns]\n",
      "receipt_desc                 object\n",
      "memo_cd                      object\n",
      "memo_text                    object\n",
      "form_tp                      object\n",
      "file_num                      int64\n",
      "tran_id                      object\n",
      "election_tp                  object\n",
      "dtype: object\n",
      "Data type contbr_zip object\n",
      "Data type contb_receipt_amt float64\n",
      "Data type contb_receipt_dt datetime64[ns]\n"
     ]
    }
   ],
   "source": [
    "# 1e YOUR CODE HERE\n",
    "print(contrib.dtypes)\n",
    "print(\"Data type contbr_zip\", contrib['contbr_zip'].dtype)\n",
    "print(\"Data type contb_receipt_amt\", contrib['contb_receipt_amt'].dtype)\n",
    "print(\"Data type contb_receipt_dt\",contrib['contb_receipt_dt'].dtype)\n"
   ]
  },
  {
   "attachments": {},
   "cell_type": "markdown",
   "metadata": {
    "deletable": false,
    "nbgrader": {
     "checksum": "60d3e303837e9603de5b96e32af7d806",
     "grade": true,
     "grade_id": "cell-447dc63eff8ebc5f",
     "locked": false,
     "points": 0,
     "schema_version": 1,
     "solution": true
    }
   },
   "source": [
    "- **1e answer here:**\n",
    "\n",
    "Data Type contbr_zip: Object/String, \n",
    "Data Type contb_receipt_amt: Numeric/Float,\n",
    "Data Type contb_receipt_dt: Date/datime64[ns]\n"
   ]
  },
  {
   "attachments": {},
   "cell_type": "markdown",
   "metadata": {
    "collapsed": true,
    "deletable": false,
    "nbgrader": {
     "checksum": "20a71229316bf24a2ce62c52f72d8142",
     "grade": true,
     "grade_id": "cell-963603c5ed346a99",
     "locked": false,
     "points": 0,
     "schema_version": 1,
     "solution": true
    }
   },
   "source": [
    "**1f.** What columns have the most non-nulls?  Would you recommend to drop any columns based on the number of nulls? (5 points)"
   ]
  },
  {
   "cell_type": "code",
   "execution_count": 7,
   "metadata": {
    "deletable": false,
    "nbgrader": {
     "checksum": "426b589a9d6457f38381eb1c77678d4f",
     "grade": true,
     "grade_id": "cell-b6fc3f7c906c95a2",
     "locked": false,
     "points": 0,
     "schema_version": 1,
     "solution": true
    }
   },
   "outputs": [
    {
     "name": "stdout",
     "output_type": "stream",
     "text": [
      "Columns with the most non-null values:\n",
      "cmte_id              1125659\n",
      "cand_id              1125659\n",
      "tran_id              1125659\n",
      "file_num             1125659\n",
      "form_tp              1125659\n",
      "contb_receipt_dt     1125659\n",
      "contb_receipt_amt    1125659\n",
      "contbr_st            1125659\n",
      "contbr_nm            1125659\n",
      "cand_nm              1125659\n",
      "contbr_city          1125633\n",
      "contbr_zip           1125564\n",
      "election_tp          1124234\n",
      "contbr_occupation    1115260\n",
      "contbr_employer       967757\n",
      "memo_text             501148\n",
      "memo_cd               144268\n",
      "receipt_desc           15045\n",
      "dtype: int64\n"
     ]
    }
   ],
   "source": [
    "# 1f YOUR CODE HERE\n",
    "not_null = contrib.count()\n",
    "print(\"Columns with the most non-null values:\")\n",
    "print(not_null.sort_values(ascending=False))\n"
   ]
  },
  {
   "attachments": {},
   "cell_type": "markdown",
   "metadata": {
    "collapsed": true,
    "deletable": false,
    "nbgrader": {
     "checksum": "81ebf2a2f96961b4464f6c35d2143427",
     "grade": true,
     "grade_id": "cell-bea2cf7a6fff8565",
     "locked": false,
     "points": 0,
     "schema_version": 1,
     "solution": true
    }
   },
   "source": [
    "- **1f answer here:** \n",
    "\n",
    "The columns with the most non-nulls are these: \n",
    "\n",
    "cmte_id,              \n",
    "cand_id,             \n",
    "tran_id,             \n",
    "file_num,             \n",
    "form_tp,             \n",
    "contb_receipt_dt,     \n",
    "contb_receipt_amt,    \n",
    "contbr_st,            \n",
    "contbr_nm,           \n",
    "cand_nm \n",
    "\n",
    "\n",
    "Based on the number of nulls present in receipt_desc, this column could be a candidate for removal "
   ]
  },
  {
   "attachments": {},
   "cell_type": "markdown",
   "metadata": {},
   "source": [
    "**1g.** A column we know that we want to use is the cand_nm column.  From the documentation each candidate is a unique candidate id also. Check data quality of `cand_id` column to see if it matches `cand_nm` column. Specifically check to ensure our targetted candidate 'Bernard Sanders' always has the same cand_id throughout. Any issues with `cand_nm` matching `cand_id`? (5 points)"
   ]
  },
  {
   "cell_type": "code",
   "execution_count": 8,
   "metadata": {},
   "outputs": [
    {
     "name": "stdout",
     "output_type": "stream",
     "text": [
      "cand_id column matches the cand_nm column\n",
      "Unique id Bernard Sanders: ['P60007168']\n",
      "Same value for Bernard Sanders always?: True\n"
     ]
    }
   ],
   "source": [
    "# 1g YOUR CODE HERE\n",
    "\n",
    "#Check data quality of cand_id and cand_num\n",
    "unique_value_column = contrib[['cand_id', 'cand_nm']].drop_duplicates()\n",
    "cand_nm_check = unique_value_column .duplicated(subset='cand_nm').any()\n",
    "cand_id_check = unique_value_column .duplicated(subset='cand_id').any()\n",
    "is_cand_id_matching_cand_nm = not cand_nm_check and not cand_id_check\n",
    "\n",
    "\n",
    "\n",
    "sanders_data = contrib[contrib['cand_nm'] == 'Sanders, Bernard']\n",
    "\n",
    "cand_id_unique_value = sanders_data['cand_id'].unique()\n",
    "\n",
    "is_cand_id_unique = sanders_data['cand_id'].nunique() == 1\n",
    "\n",
    "if is_cand_id_matching_cand_nm:\n",
    "    print('cand_id column matches the cand_nm column')\n",
    "else:\n",
    "    print(\"cand_id' does not match match cand_nm\")\n",
    "print(\"Unique id Bernard Sanders:\", cand_id_unique_value)\n",
    "print(\"Same value for Bernard Sanders always?:\", is_cand_id_unique)\n"
   ]
  },
  {
   "attachments": {},
   "cell_type": "markdown",
   "metadata": {},
   "source": [
    "- **1g answer here:** \n",
    "\n",
    "There are no issues with the cand_id and cand_nm columns matching. In addition, there is a unique id for Bernard Sanders and it is always the same value "
   ]
  },
  {
   "attachments": {},
   "cell_type": "markdown",
   "metadata": {},
   "source": [
    "**1h.** Another area to check is to make sure all of the records are from California. Check the `contbr_st` column - are there any records outside of California based on `contbr_st`? (5 points)"
   ]
  },
  {
   "cell_type": "code",
   "execution_count": 9,
   "metadata": {},
   "outputs": [
    {
     "name": "stdout",
     "output_type": "stream",
     "text": [
      "All records are from California.\n"
     ]
    }
   ],
   "source": [
    "# 1h YOUR CODE HERE\n",
    "state_checker = contrib['contbr_st'].nunique() > 1 and 'CA' not in contrib['contbr_st'].unique()\n",
    "if state_checker:\n",
    "    print(\"There are records from states outside of California.\")\n",
    "else:\n",
    "    print(\"All records are from California.\")"
   ]
  },
  {
   "attachments": {},
   "cell_type": "markdown",
   "metadata": {},
   "source": [
    "- **1h answer here:** \n",
    "\n",
    "All of the records are from California"
   ]
  },
  {
   "attachments": {},
   "cell_type": "markdown",
   "metadata": {},
   "source": [
    "**1i.** The next column to check for the analysis is the `tran_id` column. This column could be the primary key so look for duplicates. How many duplicate entries are there? Any pattern for why are there duplicate entries? (5 points)"
   ]
  },
  {
   "cell_type": "code",
   "execution_count": 10,
   "metadata": {},
   "outputs": [
    {
     "name": "stdout",
     "output_type": "stream",
     "text": [
      "Duplicate count: 3454\n",
      "Duplicate entries:\n",
      "           cmte_id    cand_id                    cand_nm  \\\n",
      "57       C00575795  P00003392    Clinton, Hillary Rodham   \n",
      "90       C00575795  P00003392    Clinton, Hillary Rodham   \n",
      "91       C00575795  P00003392    Clinton, Hillary Rodham   \n",
      "174      C00574624  P60006111  Cruz, Rafael Edward 'Ted'   \n",
      "175      C00574624  P60006111  Cruz, Rafael Edward 'Ted'   \n",
      "...            ...        ...                        ...   \n",
      "1125589  C00573519  P60005915        Carson, Benjamin S.   \n",
      "1125596  C00573519  P60005915        Carson, Benjamin S.   \n",
      "1125597  C00573519  P60005915        Carson, Benjamin S.   \n",
      "1125598  C00573519  P60005915        Carson, Benjamin S.   \n",
      "1125614  C00573519  P60005915        Carson, Benjamin S.   \n",
      "\n",
      "                     contbr_nm    contbr_city contbr_st     contbr_zip  \\\n",
      "57             SANMUKH, BHAKTA      SAN DIMAS        CA 917,733,736.00   \n",
      "90             ROBERT, MONKMAN        FREMONT        CA 945,365,810.00   \n",
      "91             DOROTHY, FIEGER  SPRING VALLEY        CA 919,775,125.00   \n",
      "174            MORENO, KENNETH       OAK VIEW        CA 930,229,619.00   \n",
      "175      NOWAKOWSKI, HENRY MR.        ANAHEIM        CA 928,065,615.00   \n",
      "...                        ...            ...       ...            ...   \n",
      "1125589          LONGWELL, SAM   CAMERON PARK        CA      956829011   \n",
      "1125596          MANN, VIVIANE  MONARCH BEACH        CA      926293467   \n",
      "1125597          MANN, VIVIANE  MONARCH BEACH        CA      926293467   \n",
      "1125598          MANN, VIVIANE  MONARCH BEACH        CA      926293467   \n",
      "1125614        HANSEN, WILLIAM       GLENDALE        CA      912081507   \n",
      "\n",
      "        contbr_employer       contbr_occupation  contb_receipt_amt  \\\n",
      "57                  NaN                 RETIRED             151.00   \n",
      "90             ARM, INC       MARKETING MANAGER             300.00   \n",
      "91            U.S. NAVY                 RETIRED             100.00   \n",
      "174       SELF EMPLOYED  INDEPENDENT CONTRACTOR              35.00   \n",
      "175             RETIRED                 RETIRED               5.00   \n",
      "...                 ...                     ...                ...   \n",
      "1125589         RETIRED                 RETIRED              50.00   \n",
      "1125596   SELF EMPLOYED    REAL ESTATE INVESTOR           1,000.00   \n",
      "1125597   SELF EMPLOYED    REAL ESTATE INVESTOR              25.00   \n",
      "1125598   SELF EMPLOYED    REAL ESTATE INVESTOR              50.00   \n",
      "1125614         RETIRED                 RETIRED              25.00   \n",
      "\n",
      "        contb_receipt_dt receipt_desc memo_cd             memo_text form_tp  \\\n",
      "57            2016-03-31          NaN       X  *BEST EFFORTS UPDATE   SA17A   \n",
      "90            2016-03-31          NaN       X  *BEST EFFORTS UPDATE   SA17A   \n",
      "91            2016-03-31          NaN       X  *BEST EFFORTS UPDATE   SA17A   \n",
      "174           2016-04-12          NaN     NaN                   NaN   SA17A   \n",
      "175           2016-04-06          NaN     NaN                   NaN   SA17A   \n",
      "...                  ...          ...     ...                   ...     ...   \n",
      "1125589       2016-01-06          NaN     NaN                   NaN   SA17A   \n",
      "1125596       2016-01-02          NaN     NaN                   NaN   SA17A   \n",
      "1125597       2016-01-08          NaN     NaN                   NaN   SA17A   \n",
      "1125598       2016-01-14          NaN     NaN                   NaN   SA17A   \n",
      "1125614       2016-01-19          NaN     NaN                   NaN   SA17A   \n",
      "\n",
      "         file_num        tran_id election_tp  \n",
      "57        1091718       C3913687       P2016  \n",
      "90        1091718       C3925472       P2016  \n",
      "91        1091718       C3937968       P2016  \n",
      "174       1077664  SA17A.1645838       P2016  \n",
      "175       1077664  SA17A.1627230       P2016  \n",
      "...           ...            ...         ...  \n",
      "1125589   1073637   SA17.1121072       P2016  \n",
      "1125596   1073637   SA17.1112655       P2016  \n",
      "1125597   1073637   SA17.1126164       P2016  \n",
      "1125598   1073637   SA17.1137886       P2016  \n",
      "1125614   1073637   SA17.1153096       P2016  \n",
      "\n",
      "[6873 rows x 18 columns]\n"
     ]
    }
   ],
   "source": [
    "# 1i YOUR CODE HERE\n",
    "tran_id_duplicates = contrib['tran_id'].duplicated().sum()\n",
    "print('Duplicate count:',tran_id_duplicates)\n",
    "\n",
    "\n",
    "duplicate_values = contrib[contrib.duplicated(subset='tran_id', keep=False)]\n",
    "\n",
    "# Print the duplicate entries\n",
    "print(\"Duplicate entries:\")\n",
    "print(duplicate_values)\n",
    "\n"
   ]
  },
  {
   "attachments": {},
   "cell_type": "markdown",
   "metadata": {},
   "source": [
    "- **1i answer here:** \n",
    "\n",
    "There are 3454 duplicates entries. The pattern/reason on why there are duplicated entries is because there can be a unique candidate with duplicated values of the same transaction "
   ]
  },
  {
   "attachments": {},
   "cell_type": "markdown",
   "metadata": {},
   "source": [
    "**1j.** Another column to check is the `contb_receipt_amt` that shows the donation amounts. How many negative donations are included? What do negative donations mean? Please show at least pull a few rows to look at the records with negative donations. Do these records match with the expectation of why a negative donation would happen? (5 points)"
   ]
  },
  {
   "cell_type": "code",
   "execution_count": 11,
   "metadata": {},
   "outputs": [
    {
     "name": "stdout",
     "output_type": "stream",
     "text": [
      "Negative donations: 11896\n",
      "Rows with negative donations:\n",
      "       cmte_id    cand_id                    cand_nm           contbr_nm  \\\n",
      "19   C00574624  P60006111  Cruz, Rafael Edward 'Ted'    JOLLIFF, RICHARD   \n",
      "23   C00574624  P60006111  Cruz, Rafael Edward 'Ted'    JOLLIFF, RICHARD   \n",
      "81   C00574624  P60006111  Cruz, Rafael Edward 'Ted'    JOLLIFF, RICHARD   \n",
      "190  C00574624  P60006111  Cruz, Rafael Edward 'Ted'    NOWELL, DIANA L.   \n",
      "213  C00574624  P60006111  Cruz, Rafael Edward 'Ted'  LICHTY, ANDREW MR.   \n",
      "\n",
      "                contbr_city contbr_st     contbr_zip  \\\n",
      "19                    CHICO        CA 959,289,507.00   \n",
      "23                    CHICO        CA 959,289,507.00   \n",
      "81                    CHICO        CA 959,289,507.00   \n",
      "190  RANCHO SANTA MARGARITA        CA 926,884,928.00   \n",
      "213               SAN DIEGO        CA 921,096,720.00   \n",
      "\n",
      "                        contbr_employer     contbr_occupation  \\\n",
      "19                        SELF EMPLOYED               RANCHER   \n",
      "23                        SELF EMPLOYED               RANCHER   \n",
      "81                        SELF EMPLOYED               RANCHER   \n",
      "190  CAPISTRAND UNIFIED SCHOOL DISTRICT  LIBRARIAN TECHNICIAN   \n",
      "213                       SELF EMPLOYED           REAL ESTATE   \n",
      "\n",
      "     contb_receipt_amt contb_receipt_dt              receipt_desc memo_cd  \\\n",
      "19              -25.00       2016-04-29  REDESIGNATION TO GENERAL       X   \n",
      "23             -150.00       2016-04-29  REDESIGNATION TO GENERAL       X   \n",
      "81              -60.00       2016-04-14  REDESIGNATION TO GENERAL       X   \n",
      "190            -100.00       2016-04-11  REDESIGNATION TO GENERAL       X   \n",
      "213             -25.00       2016-04-30  REDESIGNATION TO GENERAL       X   \n",
      "\n",
      "                    memo_text form_tp  file_num         tran_id election_tp  \n",
      "19   REDESIGNATION TO GENERAL   SA17A   1077664  SA17A.1826482B       P2016  \n",
      "23   REDESIGNATION TO GENERAL   SA17A   1077664  SA17A.1826483B       P2016  \n",
      "81   REDESIGNATION TO GENERAL   SA17A   1077664   SA17A.1827494       P2016  \n",
      "190  REDESIGNATION TO GENERAL   SA17A   1077664  SA17A.1639830B       P2016  \n",
      "213  REDESIGNATION TO GENERAL   SA17A   1077664  SA17A.1826888B       P2016  \n"
     ]
    }
   ],
   "source": [
    "# 1j YOUR CODE HERE\n",
    "\n",
    "negative_donation_count = (contrib['contb_receipt_amt'] < 0).sum()\n",
    "\n",
    "print(\"Negative donations:\", negative_donation_count)\n",
    "\n",
    "negative_donations = contrib[contrib['contb_receipt_amt'] < 0]\n",
    "print(\"Rows with negative donations:\")\n",
    "print(negative_donations.head())"
   ]
  },
  {
   "attachments": {},
   "cell_type": "markdown",
   "metadata": {},
   "source": [
    "- **1j answer here:**\n",
    "\n",
    "Yes, this does match with the expectation of a negative donation "
   ]
  },
  {
   "attachments": {},
   "cell_type": "markdown",
   "metadata": {},
   "source": [
    "**1k.** One more column to look at is the date of donation column. Are there any dates outside of the primary period (defined as 1 Jan 2014 to 7 June 2016)? Are the dates well-formatted for our analysis? (5 points)"
   ]
  },
  {
   "cell_type": "code",
   "execution_count": 12,
   "metadata": {},
   "outputs": [
    {
     "name": "stdout",
     "output_type": "stream",
     "text": [
      "Dates not in primary:\n",
      "9932      2013-11-05\n",
      "9994      2013-11-05\n",
      "14673     2016-06-30\n",
      "14682     2016-07-20\n",
      "14697     2016-07-14\n",
      "             ...    \n",
      "1123992   2016-08-02\n",
      "1123993   2016-08-09\n",
      "1123994   2016-08-31\n",
      "1123995   2016-08-31\n",
      "1123996   2016-07-06\n",
      "Name: contb_receipt_dt, Length: 451372, dtype: datetime64[ns]\n",
      "Number of dates outside the primary period: 451372\n"
     ]
    }
   ],
   "source": [
    "# 1k YOUR CODE HERE\n",
    "\n",
    "start_date = '2014-01-01'\n",
    "end_date = '2016-06-07'\n",
    "\n",
    "dates_not_primary = contrib[(contrib['contb_receipt_dt'] < start_date) | (contrib['contb_receipt_dt'] > end_date)]\n",
    "count_dates_not_primary = len(dates_not_primary)\n",
    "\n",
    "print('Dates not in primary:')\n",
    "print(dates_not_primary['contb_receipt_dt'])\n",
    "print(\"Number of dates outside the primary period:\", count_dates_not_primary)"
   ]
  },
  {
   "attachments": {},
   "cell_type": "markdown",
   "metadata": {},
   "source": [
    "- **1k answer here:**\n",
    "\n",
    "Yes, the dates are well formatted for our analysis and there are 451372 dates that are not included in the primary period"
   ]
  },
  {
   "attachments": {},
   "cell_type": "markdown",
   "metadata": {
    "collapsed": true,
    "deletable": false,
    "nbgrader": {
     "checksum": "bffd2778d22127102347386bfb6f5b20",
     "grade": true,
     "grade_id": "cell-4ad1da24176f0450",
     "locked": false,
     "points": 0,
     "schema_version": 1,
     "solution": true
    }
   },
   "source": [
    "**1l.** Finally, answer the initial questions in the cells below (5 points)"
   ]
  },
  {
   "attachments": {},
   "cell_type": "markdown",
   "metadata": {},
   "source": [
    "**1l.1** Do we have the correct # of columns and rows.\n",
    "\n",
    "- **1l.1 answer here:**\n",
    "\n",
    "Yes, we do have the correct # of columns and rows"
   ]
  },
  {
   "attachments": {},
   "cell_type": "markdown",
   "metadata": {},
   "source": [
    "**1l.2** Do the records contain data for the questions we want to answer?\n",
    "\n",
    "- **1l.2 answer here:**\n",
    "\n",
    "Yes, all of the records have sufficient data to carry out our analysis"
   ]
  },
  {
   "attachments": {},
   "cell_type": "markdown",
   "metadata": {},
   "source": [
    "**1l.3** What columns are important?\n",
    "\n",
    "- **1l.3 answer here:** \n",
    "\n",
    "The most important columns: \n",
    "\n",
    "cmte_id,cand_idn,cand_nm,contbr_nm,contbr_city,contbr_st,contbr_zip,contb_receipt_amt,contb_receipt_dt"
   ]
  },
  {
   "attachments": {},
   "cell_type": "markdown",
   "metadata": {},
   "source": [
    "**1l.4** What columns can be dropped?\n",
    "\n",
    "- **1l.4 answer here:** \n",
    "\n",
    "The columns that can be dropped are: \n",
    "\n",
    "form_tp, file_num, tran_id, memo_cd, memo_text, receipt_desc"
   ]
  },
  {
   "attachments": {},
   "cell_type": "markdown",
   "metadata": {},
   "source": [
    "**1l.5** What are the data problems?\n",
    "\n",
    "- **1l.5 answer here:**\n",
    "\n",
    "Some of the data problems include: \n",
    "1. contbr_zip has an inconsistent across the values and not in the correct zip code format\n",
    "2. There are several duplicated columns, especially when analzying tran_id\n",
    "3. There are several values with NaN  \n"
   ]
  },
  {
   "attachments": {},
   "cell_type": "markdown",
   "metadata": {},
   "source": [
    "**1l.6** List any assumptions so far:\n",
    "\n",
    "- **1l.6 answer here:**\n",
    "\n",
    "One of the assumptions is that the amount is in local currency for our analaysis. It is also assumed that the candidates are affiliated to a specific party. \n"
   ]
  },
  {
   "attachments": {},
   "cell_type": "markdown",
   "metadata": {
    "collapsed": true,
    "deletable": false,
    "nbgrader": {
     "checksum": "14c2855e3d59f0da6b1afd5cf0da2da8",
     "grade": true,
     "grade_id": "cell-fd840cdd19d2bd2a",
     "locked": false,
     "points": 0,
     "schema_version": 1,
     "solution": true
    }
   },
   "source": [
    "***\n",
    "## 2. Data filtering and data quality fixes (30 points)\n",
    "\n",
    "Now that we have a basic understanding of the data, let's filter out the records we don't need and fix the data."
   ]
  },
  {
   "attachments": {},
   "cell_type": "markdown",
   "metadata": {},
   "source": [
    "**2a.** From the dataset filter out (remove) any election_tp not in the primary election. Print/show the shape of the dataframe after the filtering is complete. (5 points)"
   ]
  },
  {
   "cell_type": "code",
   "execution_count": 13,
   "metadata": {
    "deletable": false,
    "nbgrader": {
     "checksum": "43ce3d15cee7ab73f53fd8f054c9826c",
     "grade": true,
     "grade_id": "cell-dce8d3107c1463ca",
     "locked": false,
     "points": 0,
     "schema_version": 1,
     "solution": true
    }
   },
   "outputs": [
    {
     "name": "stdout",
     "output_type": "stream",
     "text": [
      "(810488, 18)\n"
     ]
    }
   ],
   "source": [
    "# 2a YOUR CODE HERE\n",
    "\n",
    "filter_primary =  contrib[contrib['election_tp'].str.startswith('P', na=False)]\n",
    "print(filter_primary.shape)"
   ]
  },
  {
   "attachments": {},
   "cell_type": "markdown",
   "metadata": {
    "deletable": false,
    "nbgrader": {
     "checksum": "a5f4e6df0f32e24c492a9589ec87fef6",
     "grade": true,
     "grade_id": "cell-9e3f68b21dac8e10",
     "locked": false,
     "points": 0,
     "schema_version": 1,
     "solution": true
    }
   },
   "source": [
    "**2b.** From the dataset filter out (remove) any candidate that is not Bernie Sanders. Print/show the shape of the dataframe after the filtering is complete. (5 points)"
   ]
  },
  {
   "cell_type": "code",
   "execution_count": 14,
   "metadata": {
    "deletable": false,
    "nbgrader": {
     "checksum": "4f1a9e7ee0ded9d2b5af5777cb85e505",
     "grade": true,
     "grade_id": "cell-c14fbed9d72d54e3",
     "locked": false,
     "points": 0,
     "schema_version": 1,
     "solution": true
    }
   },
   "outputs": [
    {
     "name": "stdout",
     "output_type": "stream",
     "text": [
      "(407172, 18)\n"
     ]
    }
   ],
   "source": [
    "# 2b YOUR CODE HERE\n",
    "\n",
    "filter_not_sanders = contrib[(contrib['cand_nm'] == 'Sanders, Bernard')]\n",
    "print(filter_not_sanders.shape)"
   ]
  },
  {
   "attachments": {},
   "cell_type": "markdown",
   "metadata": {},
   "source": [
    "**2c.** The `contbr_zip` column is not formatted well for our analysis. Make a new zipcode column that is the five-digit zipcodes. Filter out any records outside of California based on the zipcode. Print/show the shape of the dataframe after the filtering is complete. (10 points).\n",
    "\n",
    "- You will have to research what the valid 5-digit zipcodes for California are!"
   ]
  },
  {
   "cell_type": "code",
   "execution_count": 15,
   "metadata": {},
   "outputs": [
    {
     "name": "stdout",
     "output_type": "stream",
     "text": [
      "(1125423, 19)\n"
     ]
    }
   ],
   "source": [
    "# 2c YOUR CODE HERE\n",
    "contrib['zipcode_clean'] = contrib['contbr_zip'].apply(lambda x: str(x)[:5])\n",
    "\n",
    "# Step 2: Filter out any records outside of California based on the zip code\n",
    "california_data = contrib[contrib['zipcode_clean'].str.startswith('9')]\n",
    "\n",
    "# Step 3: Print/show the shape of the DataFrame after filtering\n",
    "print(california_data.shape)\n",
    "\n"
   ]
  },
  {
   "attachments": {},
   "cell_type": "markdown",
   "metadata": {},
   "source": [
    "**2d.** The receipt amount column has negative donations. After talking with your team, a decision was made that the best course of action is to remove these negative values so that the donation count and amount is more accurate. Print/show the shape of the dataframe after the filtering is complete. (5 points)"
   ]
  },
  {
   "cell_type": "code",
   "execution_count": 16,
   "metadata": {},
   "outputs": [
    {
     "name": "stdout",
     "output_type": "stream",
     "text": [
      "After filtering out negative donations shape: (1113763, 19)\n"
     ]
    }
   ],
   "source": [
    "# 2d YOUR CODE HERE\n",
    "\n",
    "contrib = contrib[contrib['contb_receipt_amt'] >= 0]\n",
    "print(\"After filtering out negative donations shape:\",contrib.shape)\n"
   ]
  },
  {
   "attachments": {},
   "cell_type": "markdown",
   "metadata": {},
   "source": [
    "**2e.** From the dataset drop any columns that won't be used in the analysis. Print/show the shape of the dataframe after the dropping is complete. What columns did you drop and why? (5 points)"
   ]
  },
  {
   "cell_type": "code",
   "execution_count": 17,
   "metadata": {},
   "outputs": [
    {
     "name": "stdout",
     "output_type": "stream",
     "text": [
      "Shape after dropping unnecessary columns: (1113763, 13)\n"
     ]
    }
   ],
   "source": [
    "# 2e YOUR CODE HERE\n",
    "\n",
    "rm_columns = ['form_tp', 'file_num', 'tran_id', 'memo_cd', 'memo_text', 'receipt_desc']\n",
    "\n",
    "contrib = contrib.drop(columns=rm_columns)\n",
    "\n",
    "print(\"Shape after dropping unnecessary columns:\",contrib.shape)\n"
   ]
  },
  {
   "attachments": {},
   "cell_type": "markdown",
   "metadata": {},
   "source": [
    "- **2e answer here:**\n",
    "\n",
    "I decided to drop columns form_tp,file_num,tran_id,memo_cd,memo_text and receipt_desc as they are just descriptive columns. They do give valuable information for the user, but in our analysis they are not needed."
   ]
  },
  {
   "attachments": {},
   "cell_type": "markdown",
   "metadata": {},
   "source": [
    "**2f.** List any assumptions that you made up to this point:"
   ]
  },
  {
   "attachments": {},
   "cell_type": "markdown",
   "metadata": {},
   "source": [
    "- **2f answer here:**\n",
    "\n",
    "\n",
    "One of the assumptions that have been made is that all of the zip codes included in the list are valid. In addition, we assumed that removing negative donors will actually give a more accurate view of the total donation amount. "
   ]
  },
  {
   "attachments": {},
   "cell_type": "markdown",
   "metadata": {
    "deletable": false,
    "nbgrader": {
     "checksum": "6dc1481a003cdd752c5edfa9ac400879",
     "grade": true,
     "grade_id": "cell-f7a01ce9c5b10ac7",
     "locked": false,
     "points": 0,
     "schema_version": 1,
     "solution": true
    }
   },
   "source": [
    "***\n",
    "## 3. Answering the questions (20 points)\n",
    "\n",
    "Now that the data is cleaned and filterd - let's answer the two questions from your boss!"
   ]
  },
  {
   "attachments": {},
   "cell_type": "markdown",
   "metadata": {
    "deletable": false,
    "nbgrader": {
     "checksum": "010f5de5f6af4c7f830d1cf7a81bbc0f",
     "grade": true,
     "grade_id": "cell-5617179133b06d0c",
     "locked": false,
     "points": 0,
     "schema_version": 1,
     "solution": true
    }
   },
   "source": [
    "**3a.** Which zipcode had the highest count of contributions and the most dollar amount? (10 points)"
   ]
  },
  {
   "cell_type": "code",
   "execution_count": 18,
   "metadata": {},
   "outputs": [
    {
     "name": "stdout",
     "output_type": "stream",
     "text": [
      "Zipcode with the highest count of contributions: 94110\n",
      "Zipcode with the most dollar amount: 90049\n"
     ]
    }
   ],
   "source": [
    "# 3a YOUR CODE HERE\n",
    "zipcode_contributions = contrib.groupby('zipcode_clean')['contb_receipt_amt'].agg(['count', 'sum'])\n",
    "count_zipcode = zipcode_contributions['count'].sort_values(ascending=False).nlargest(1).index[0]\n",
    "dollar_zipcode = zipcode_contributions['sum'].sort_values(ascending=False).nlargest(1).index[0]\n",
    "\n",
    "\n",
    "print(\"Zipcode with the highest count of contributions:\", count_zipcode)\n",
    "print(\"Zipcode with the most dollar amount:\", dollar_zipcode)"
   ]
  },
  {
   "attachments": {},
   "cell_type": "markdown",
   "metadata": {},
   "source": [
    "- **3a answer here:** "
   ]
  },
  {
   "attachments": {},
   "cell_type": "markdown",
   "metadata": {},
   "source": [
    "**3b.** What day(s) of the month do most people donate? (10 points)"
   ]
  },
  {
   "cell_type": "code",
   "execution_count": 19,
   "metadata": {},
   "outputs": [
    {
     "name": "stdout",
     "output_type": "stream",
     "text": [
      "Highest donation day: 29\n",
      "Second donation day: 30\n",
      "Third donation day: 28\n"
     ]
    }
   ],
   "source": [
    "# 3b YOUR CODE HERE\n",
    "\n",
    "contrib['day_of_month'] = contrib['contb_receipt_dt'].dt.day\n",
    "donation_days = contrib['day_of_month'].value_counts()\n",
    "\n",
    "# Find the day(s) with the highest count of donations\n",
    "sorted_donation_days = donation_days.sort_values(ascending=False)\n",
    "highest_donation_day = donation_days.index[0]\n",
    "second_highest_day = sorted_donation_days.index[1]\n",
    "third_highest_day = sorted_donation_days.index[2]\n",
    "# Print the result\n",
    "print('Highest donation day:',highest_donation_day)\n",
    "print('Second donation day:',second_highest_day)\n",
    "print('Third donation day:',third_highest_day)\n"
   ]
  },
  {
   "attachments": {},
   "cell_type": "markdown",
   "metadata": {},
   "source": [
    "- **3b answer here:** \n",
    "\n",
    "Highest donation day: 29\n",
    "\n",
    "Second donation day: 30\n",
    "\n",
    "Third donation day: 28"
   ]
  },
  {
   "attachments": {},
   "cell_type": "markdown",
   "metadata": {},
   "source": [
    "## If you have feedback for this homework, please submit it using the link below:\n",
    "\n",
    "http://goo.gl/forms/74yCiQTf6k"
   ]
  }
 ],
 "metadata": {
  "kernelspec": {
   "display_name": "Python 3 (ipykernel)",
   "language": "python",
   "name": "python3"
  },
  "language_info": {
   "codemirror_mode": {
    "name": "ipython",
    "version": 3
   },
   "file_extension": ".py",
   "mimetype": "text/x-python",
   "name": "python",
   "nbconvert_exporter": "python",
   "pygments_lexer": "ipython3",
   "version": "3.10.9"
  }
 },
 "nbformat": 4,
 "nbformat_minor": 2
}
