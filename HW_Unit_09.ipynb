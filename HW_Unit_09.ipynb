{
 "cells": [
  {
   "attachments": {},
   "cell_type": "markdown",
   "id": "2b1cf856",
   "metadata": {},
   "source": [
    "## Week 9 Assignment - DATASCI200 Introduction to Data Science Programming, UC Berkeley MIDS"
   ]
  },
  {
   "attachments": {},
   "cell_type": "markdown",
   "id": "1bbbf149",
   "metadata": {},
   "source": [
    "Write code in this Jupyter Notebook to solve the following problems. Please upload this **Notebook** with your solutions to your GitHub repository and gradescope.\n",
    "\n",
    "Assignment due date: 11:59PM PT the night before the Week 11 Live Session."
   ]
  },
  {
   "attachments": {},
   "cell_type": "markdown",
   "id": "dde812e7",
   "metadata": {},
   "source": [
    "## Objectives\n",
    "\n",
    "- Understand different ways to manipulate and perform calculations on Numpy arrays\n",
    "- Using numpy to find the max values in each column and row, calculating the mean of a matrix\n",
    "- Demonstarting matrix value comparisons and slicing of values\n",
    "- Calculations using numpy matrixes"
   ]
  },
  {
   "attachments": {},
   "cell_type": "markdown",
   "id": "978cd08d",
   "metadata": {},
   "source": [
    "## General Guidelines:\n",
    "\n",
    "- All calculations need to be done in the functions (that includes any formatting of the output)\n",
    "- Name your functions exactly as written in the problem statement\n",
    "- Please have your functions return the answer rather than printing it inside the function\n",
    "- Do not make a separate input() statement.  The functions will be passed the input as shown in the examples\n",
    "- The examples given are samples of how we will test/grade your code. Please ensure your functions output the same information\n",
    "- Answer format is graded - please match the examples\n",
    "- Docstrings and comments in your code are strongly suggested but won't be graded\n",
    "- In each code block, do NOT delete the ### comment at the top of a cell (it's needed for the auto-grading!)\n",
    "  - Do NOT print or put other statements in the grading cells. The autograder will fail - if this happens please delete those statments and re-submit \n",
    "  - You will get 70 points from the autograder for this assignment and 30 points will be hidden. That is, passing all of the visible tests will give you 70 points. Make sure you are meeting the requirements of the problem to get the other 30 points \n",
    "  - The 30 'hidden' points are the same questions run on a different matrix - make sure your code is generalizable to work on different matrixes!\n",
    "  - Full autograder tests and results are on gradescope.\n",
    "  - You may upload and run the autograder as many times as needed in your time window to get full points\n",
    "  - The assignment needs to be named HW_Unit_09.ipynb to be graded from the autograder!\n",
    "  - The examples given are samples of how we will test/grade your code. Please ensure your code outputs the same information.\n",
    "    - In addition to the given example, the autograder will test other examples\n",
    "    - Each autograder test tells you what input it is using\n",
    "  - Once complete, the autograder will show each tests, if that test is passed or failed, and your total score\n",
    "  - The autograder fails for a couple of reasons:\n",
    "    - Your code crashes with that input (for example: `Test Failed: string index out of range`)\n",
    "    - Your code output does not match the 'correct' output (for example: `Test Failed: '1 2 3 2 1' != '1 4 6 4 1'`"
   ]
  },
  {
   "attachments": {},
   "cell_type": "markdown",
   "id": "96b6f851",
   "metadata": {},
   "source": [
    "### Instructions\n",
    "\n",
    "In this assignment, we will work with NumPy. For each question below, use NumPy functionality to execute the logic of your answer. <br>(**Do not use ```for``` or ```while``` loops!**)\n",
    "\n",
    "The first cell (below) makes two matrixes we will use for this assignment. \n",
    "- The first matrix named `features` is a 1000 row x 10 column matrix that contains a sample of our data. \n",
    "  - Each row is a one sample of the data and each column is the weight of that feature for that sample\n",
    "  - The matrix has been 'normalized' to have positive integer values on a scale of 0-100\n",
    "- The second matrix named `weights` is a 1 row by 10 column matrix consisting of the weights from the algorithm \n",
    "  - Each column corresponds to the 'weight' of that feature in the calculation of a prediction result\n",
    "  - The weights are in the range -1 to +1 and indicate the 'correlation' between that feature and the prediciton result with a negative weight being a negative correlation"
   ]
  },
  {
   "cell_type": "code",
   "execution_count": null,
   "id": "4f6b1baf",
   "metadata": {},
   "outputs": [],
   "source": [
    "import numpy as np\n",
    "np.random.seed(25)\n",
    "\n",
    "# Creating the matrixes to use for the problem\n",
    "features = np.random.randint(0, 100, 10000).reshape(1000,10)\n",
    "weights = np.array([ 0.24540611,  0.31467517, -0.07656614, -0.16161533, -0.09064962,\n",
    "                    -0.00315615,  0.09609595,  0.2517064 ,  0.01100181, -0.38629211])"
   ]
  },
  {
   "attachments": {},
   "cell_type": "markdown",
   "id": "c70e0644",
   "metadata": {},
   "source": [
    "***\n",
    "\n",
    "##### Data Quality checks\n",
    "\n",
    "The first few questions below are some checks to access the data quality of the arrays. Since the arrays were made above, we already know their composition but its good practise to check the data that they contain. "
   ]
  },
  {
   "attachments": {},
   "cell_type": "markdown",
   "id": "3b3982df",
   "metadata": {},
   "source": [
    "**1)** \n",
    "\n",
    "In the function `get_shape` below, return the shape of a given matrix. (5 points)"
   ]
  },
  {
   "cell_type": "code",
   "execution_count": null,
   "id": "045003da",
   "metadata": {},
   "outputs": [],
   "source": [
    "# Q9-1 Grading Tag:\n",
    "def get_shape(ar):\n",
    "    return ar.shape"
   ]
  },
  {
   "cell_type": "code",
   "execution_count": null,
   "id": "1cd284d0",
   "metadata": {},
   "outputs": [],
   "source": [
    "# Should return: (1000, 10)\n",
    "\n",
    "get_shape(features)"
   ]
  },
  {
   "attachments": {},
   "cell_type": "markdown",
   "id": "6ea6fef1",
   "metadata": {},
   "source": [
    "**2)** \n",
    "\n",
    "In the function `check_min_max` below, return the minimum value and maximum value of an inputted matrix as a tuple (minimum_value, maximum_value) (5 points)"
   ]
  },
  {
   "cell_type": "code",
   "execution_count": null,
   "id": "c451aeb6",
   "metadata": {},
   "outputs": [],
   "source": [
    "# Q9-2 Grading Tag:\n",
    "def check_min_max(ar):\n",
    "    return (np.min(ar),np.max(ar))\n"
   ]
  },
  {
   "cell_type": "code",
   "execution_count": null,
   "id": "ba25ae64",
   "metadata": {},
   "outputs": [],
   "source": [
    "# Should return: (0, 99)\n",
    "\n",
    "check_min_max(features)"
   ]
  },
  {
   "attachments": {},
   "cell_type": "markdown",
   "id": "6d260b9f",
   "metadata": {},
   "source": [
    "**3)** \n",
    "\n",
    "In the function `count_nan` below, return the count of the number of NaN values (NaN = 'Not a Number' or Null values) of an inputted matrix (5 points)"
   ]
  },
  {
   "cell_type": "code",
   "execution_count": null,
   "id": "88097851",
   "metadata": {},
   "outputs": [],
   "source": [
    "# Q9-3 Grading Tag:\n",
    "def count_nan(ar):\n",
    "    Total_NaN = np.sum(np.isnan(ar))\n",
    "    return Total_NaN"
   ]
  },
  {
   "cell_type": "code",
   "execution_count": null,
   "id": "be16eabf",
   "metadata": {},
   "outputs": [],
   "source": [
    "# Should return: 0\n",
    "\n",
    "count_nan(weights)"
   ]
  },
  {
   "attachments": {},
   "cell_type": "markdown",
   "id": "da2d87b4",
   "metadata": {},
   "source": [
    "***\n",
    "\n",
    "##### Outlier Identification\n",
    "\n",
    "The next questions below are functions to identify outliers. A good practise is to identify outliers, as outliers are sometimes the most interesting cases to look into but also might cause problems with a machine learning algorithm."
   ]
  },
  {
   "attachments": {},
   "cell_type": "markdown",
   "id": "86b5b1c5",
   "metadata": {},
   "source": [
    "**4)** \n",
    "\n",
    "In the function `get_median` below, return the median value for each column of an inputted matrix (that is the median value - column-wise) (5 points)"
   ]
  },
  {
   "cell_type": "code",
   "execution_count": null,
   "id": "3f8a3e74",
   "metadata": {},
   "outputs": [],
   "source": [
    "# Q9-4 Grading Tag:\n",
    "def get_median(ar):\n",
    "    return np.median(ar,axis=0)"
   ]
  },
  {
   "cell_type": "code",
   "execution_count": null,
   "id": "54be9f2b",
   "metadata": {},
   "outputs": [],
   "source": [
    "# Should return: array([50. , 49. , 50. , 49. , 50. , 52. , 49. , 49. , 49. , 50.5])\n",
    "\n",
    "get_median(features)"
   ]
  },
  {
   "attachments": {},
   "cell_type": "markdown",
   "id": "fa37b18a",
   "metadata": {},
   "source": [
    "**5)** \n",
    "\n",
    "In the function `feat_minimum` below, return the row index that contains the minimum value in a given matrix. (10 points)\n",
    "\n",
    "For example - in the matrix below, the minimum value is 2 and that appears in rows 1 and 3 so the function would return the row indexes `array([1,3])`:\n",
    "\n",
    "```\n",
    "test_matrix = np.array([[ 4, 62, 90],\n",
    "                        [ 2, 89, 31],\n",
    "                        [84, 45,  3],\n",
    "                        [24, 54,  2]])\n",
    "\n",
    "feat_minimum(test_matrix) -> array([1,3])\n",
    "```"
   ]
  },
  {
   "cell_type": "code",
   "execution_count": null,
   "id": "dc78d541",
   "metadata": {},
   "outputs": [],
   "source": [
    "# Q9-5 Grading Tag:\n",
    "def feat_minimum(ar):\n",
    "    lowest_value = np.min(ar)\n",
    "    row_index = np.where(ar == lowest_value)[0]\n",
    "    return row_index"
   ]
  },
  {
   "cell_type": "code",
   "execution_count": null,
   "id": "dd0c0ff1",
   "metadata": {},
   "outputs": [],
   "source": [
    "# Should return: \n",
    "# array([ 12,  14,  15,  24,  44,  51,  57,  65,  73,  80,  83,  93,  94,\n",
    "#         99, 106, 106, 111, 112, 114, 126, 172, 186, 202, 209, 224, 230,\n",
    "#        239, 259, 264, 270, 281, 284, 297, 299, 305, 306, 308, 364, 367,\n",
    "#        367, 370, 383, 390, 396, 417, 427, 437, 444, 462, 478, 480, 490,\n",
    "#        500, 529, 539, 542, 552, 553, 579, 595, 612, 618, 619, 627, 636,\n",
    "#        643, 646, 667, 679, 681, 719, 720, 720, 725, 732, 735, 741, 743,\n",
    "#        775, 775, 807, 807, 811, 823, 834, 847, 852, 863, 865, 870, 871,\n",
    "#        874, 903, 907, 921, 932, 963, 971, 987, 990, 992, 993], dtype=int64)\n",
    "\n",
    "feat_minimum(features)\n"
   ]
  },
  {
   "attachments": {},
   "cell_type": "markdown",
   "id": "7e506335",
   "metadata": {},
   "source": [
    "**6)** \n",
    "\n",
    "In the function `feat_maximum` below, return the row index with the maximum value for the `feat_num` feature. For example, if the function was passed 3 for the `feat_num`, it would find the row index with the maximum value for the fourth feature (column 3). (10 points) \n",
    "\n",
    "(Hint: Build on what you made in #5 above!)\n",
    "\n",
    "More in-depth example: in the matrix below, for feature 1 (passed as `feat_num`) the maximum value is 89 and that appears in rows 1 and 2 so the function would return the row indexes `array([1,2])`:\n",
    "\n",
    "```\n",
    "test_matrix = np.array([[ 4, 62,  9],\n",
    "                        [ 2, 89, 31],\n",
    "                        [84, 89,  3],\n",
    "                        [89, 54,  2]])\n",
    "\n",
    "feat_maximum(test_matrix, 1) -> array([1,2])\n",
    "```"
   ]
  },
  {
   "cell_type": "code",
   "execution_count": null,
   "id": "120012cb",
   "metadata": {},
   "outputs": [],
   "source": [
    "# Q9-6 Grading Tag:\n",
    "def feat_maximum(ar, feat_num):\n",
    "    highest_value = np.max(ar[:, feat_num])\n",
    "    row_index_high = np.where(ar[:, feat_num] == highest_value)[0]\n",
    "    return row_index_high"
   ]
  },
  {
   "cell_type": "code",
   "execution_count": null,
   "id": "e6caaff3",
   "metadata": {},
   "outputs": [],
   "source": [
    "# Should return: \n",
    "# array([ 14,  94, 120, 161, 168, 483, 634, 650, 662, 699, 938, 997], dtype=int64)\n",
    "\n",
    "feat_maximum(features, 3)"
   ]
  },
  {
   "attachments": {},
   "cell_type": "markdown",
   "id": "c04dc6ea",
   "metadata": {},
   "source": [
    "**7)** \n",
    "\n",
    "In the function `outlier_high` below, return the count of the number of values at or above 90 in a matrix. (5 points)"
   ]
  },
  {
   "cell_type": "code",
   "execution_count": null,
   "id": "a9192e74",
   "metadata": {},
   "outputs": [],
   "source": [
    "# Q9-7 Grading Tag:\n",
    "def outlier_high(ar):\n",
    "    outlier_90 = np.sum(ar>=90)\n",
    "    return outlier_90"
   ]
  },
  {
   "cell_type": "code",
   "execution_count": null,
   "id": "b7d247a9",
   "metadata": {},
   "outputs": [],
   "source": [
    "# Should return 990\n",
    "\n",
    "outlier_high(features)"
   ]
  },
  {
   "attachments": {},
   "cell_type": "markdown",
   "id": "0e8882e8",
   "metadata": {},
   "source": [
    "**8)** \n",
    "\n",
    "In the function `outlier_low` below, return the count of the number of values at or below 10 in a matrix. (5 points)"
   ]
  },
  {
   "cell_type": "code",
   "execution_count": null,
   "id": "10a8516f",
   "metadata": {},
   "outputs": [],
   "source": [
    "# Q9-8 Grading Tag:\n",
    "def outlier_low(ar):\n",
    "    outlier_10 = np.sum(ar<=10)\n",
    "    return outlier_10"
   ]
  },
  {
   "cell_type": "code",
   "execution_count": null,
   "id": "0626c252",
   "metadata": {},
   "outputs": [],
   "source": [
    "# Should return 1043\n",
    "\n",
    "outlier_low(features)"
   ]
  },
  {
   "attachments": {},
   "cell_type": "markdown",
   "id": "aa04367b",
   "metadata": {},
   "source": [
    "***\n",
    "\n",
    "##### Prediction\n",
    "\n",
    "The next questions below are functions to use the matrixes made above to calculate a prediction result. This is a simplified example of what some machine learning algorithms do to provide a prediction."
   ]
  },
  {
   "attachments": {},
   "cell_type": "markdown",
   "id": "0b770de9",
   "metadata": {},
   "source": [
    "**9)** \n",
    "\n",
    "In the function `calc_features` below, multiply each row of the `features` matrix with the `weights` matrix return this new matrix and name it `calced`. (5 points)"
   ]
  },
  {
   "cell_type": "code",
   "execution_count": null,
   "id": "3d2b7e23",
   "metadata": {},
   "outputs": [],
   "source": [
    "# Q9-9 Grading Tag:\n",
    "def calc_features(np_feat, np_weight):\n",
    "    calced = np_feat* np_weight \n",
    "    return calced"
   ]
  },
  {
   "cell_type": "code",
   "execution_count": null,
   "id": "7de111c2",
   "metadata": {},
   "outputs": [],
   "source": [
    "# Expected first couple of lines:\n",
    "# array([[  0.98162444,  19.50986054,  -6.8909526 , ...,  12.58532   ,\n",
    "#           0.08801448, -10.81617908],\n",
    "#        [  0.98162444,  28.00609013,  -2.37355034, ...,  22.1501632 ,\n",
    "#           0.60509955,  -1.15887633],  ...\n",
    "\n",
    "calced = calc_features(features, weights)\n",
    "#calced"
   ]
  },
  {
   "attachments": {},
   "cell_type": "markdown",
   "id": "a14ac2f2",
   "metadata": {},
   "source": [
    "**10)** \n",
    "\n",
    "In the function `matrix_score` below, sum the values of the `calced` matrix (from 9 above) row-wise to get a single weighted 'score' for each row return this new matrix and name it `score` (10 points)"
   ]
  },
  {
   "cell_type": "code",
   "execution_count": null,
   "id": "53c53ea4",
   "metadata": {},
   "outputs": [],
   "source": [
    "# Q9-10 Grading Tag:\n",
    "def matrix_score(np_calc):\n",
    "    features = np.random.randint(0, 100, 10000).reshape(1000,10)\n",
    "    weights = np.array([ 0.24540611,  0.31467517, -0.07656614, -0.16161533, -0.09064962,\n",
    "                    -0.00315615,  0.09609595,  0.2517064 ,  0.01100181, -0.38629211])\n",
    "    score = np.sum(np_calc, axis=1)\n",
    "    return score"
   ]
  },
  {
   "cell_type": "code",
   "execution_count": null,
   "id": "53462c71",
   "metadata": {},
   "outputs": [],
   "source": [
    "# Expected first couple of lines:\n",
    "# array([ 1.16594614e+01,  3.71336413e+01,  4.33563146e+01,  1.62602648e+01,\n",
    "#         2.84698142e+01,  2.60448311e+01, -4.23597988e+00,  4.25279392e+01, ...\n",
    "\n",
    "score = matrix_score(calced)\n",
    "score"
   ]
  },
  {
   "attachments": {},
   "cell_type": "markdown",
   "id": "2cb7cab8",
   "metadata": {},
   "source": [
    "**11)** \n",
    "\n",
    "In the function `score_mean` below, find and return the mean of the of the entire matrix `score` (5 points)"
   ]
  },
  {
   "cell_type": "code",
   "execution_count": null,
   "id": "8ca85dc6",
   "metadata": {},
   "outputs": [],
   "source": [
    "# Q9-11 Grading Tag:\n",
    "def score_mean(np_score):\n",
    "    features = np.random.randint(0, 100, 10000).reshape(1000,10)\n",
    "    weights = np.array([ 0.24540611,  0.31467517, -0.07656614, -0.16161533, -0.09064962,\n",
    "                    -0.00315615,  0.09609595,  0.2517064 ,  0.01100181, -0.38629211])\n",
    "    calced = calc_features(features, weights)\n",
    "    score = matrix_score(calced)\n",
    "    mean_score = np.mean(np_score)\n",
    "    return mean_score"
   ]
  },
  {
   "cell_type": "code",
   "execution_count": null,
   "id": "667e1d86",
   "metadata": {},
   "outputs": [],
   "source": [
    "# Should return 9.73170897548\n",
    "score_mean(score)"
   ]
  },
  {
   "attachments": {},
   "cell_type": "markdown",
   "id": "03133442",
   "metadata": {},
   "source": [
    "**12)** \n",
    "\n",
    "In the function `classify` below, using the matrix `score`, 'classify' each record based on if they are above/below the mean as follows: <br>\n",
    "- [0] below mean <br>\n",
    "- [1] at or above mean <br>\n",
    "    \n",
    "Make a new matrix called `prediction` that has the values 0 or 1 based on the `score` matrix from 10 above. (10 points)\n",
    "\n",
    "Hint: You can use the function you made above in #11 inside this function!"
   ]
  },
  {
   "cell_type": "code",
   "execution_count": null,
   "id": "eddf58f6",
   "metadata": {},
   "outputs": [],
   "source": [
    "# Q9-12 Grading Tag:\n",
    "def classify(np_score):\n",
    "    features = np.random.randint(0, 100, 10000).reshape(1000,10)\n",
    "    weights = np.array([ 0.24540611,  0.31467517, -0.07656614, -0.16161533, -0.09064962,\n",
    "                    -0.00315615,  0.09609595,  0.2517064 ,  0.01100181, -0.38629211])\n",
    "    calced = calc_features(features, weights)\n",
    "    score = matrix_score(calced)\n",
    "    matrix_mean = score_mean(np_score)\n",
    "    prediction = np.where(np_score >  matrix_mean , 1, 0)\n",
    "    return prediction"
   ]
  },
  {
   "cell_type": "code",
   "execution_count": null,
   "id": "8e84a332",
   "metadata": {},
   "outputs": [],
   "source": [
    "# Expected first couple of lines:\n",
    "# array([1, 1, 1, 1, 1, 1, 0, 1, 0, 0, 1, 0, 1, 0, 0, 0, 0, 0, 0, 1, 1, 1,\n",
    "#        0, 1, 0, 1, 1, 1, 0, 1, 1, 1, 1, 0, 0, 1, 1, 0, 0, 0, 1, 1, 0, 0, ...\n",
    "\n",
    "\n",
    "prediction = classify(score)\n",
    "prediction"
   ]
  },
  {
   "attachments": {},
   "cell_type": "markdown",
   "id": "11703604",
   "metadata": {},
   "source": [
    "**13)** \n",
    "\n",
    "In the function `perc_ones` below, using the `prediction` matrix, return the percentage of predictions classified as a 1 (10 points)"
   ]
  },
  {
   "cell_type": "code",
   "execution_count": null,
   "id": "40323814",
   "metadata": {},
   "outputs": [],
   "source": [
    "# Q9-13 Grading Tag:\n",
    "def perc_ones(np_pred):\n",
    "    one_finder = np.where(np_pred == 1)[0]\n",
    "    total_ones = len(one_finder)\n",
    "    total_values = len(np_pred)\n",
    "    return total_ones / total_values"
   ]
  },
  {
   "cell_type": "code",
   "execution_count": null,
   "id": "1dae9850",
   "metadata": {},
   "outputs": [],
   "source": [
    "# Should return: 0.505\n",
    "\n",
    "perc_ones(prediction) "
   ]
  },
  {
   "attachments": {},
   "cell_type": "markdown",
   "id": "c1977e40",
   "metadata": {},
   "source": [
    "***\n",
    "\n",
    "##### Evaluation\n",
    "\n",
    "The next question makes a function to evaluate how well our algorithm's predictions performed. \n",
    "\n",
    "Run the code below to make the `truth` matrix. This matrix is 1x1000 and is the ground truth on if a result should be 0 or 1. "
   ]
  },
  {
   "cell_type": "code",
   "execution_count": null,
   "id": "bc38a09b",
   "metadata": {},
   "outputs": [],
   "source": [
    "# Run this to make the truth matrix\n",
    "\n",
    "np.random.seed(1234)\n",
    "truth = np.random.randint(0, 2, 1000)"
   ]
  },
  {
   "attachments": {},
   "cell_type": "markdown",
   "id": "d9c812ab",
   "metadata": {},
   "source": [
    "**14)** \n",
    "\n",
    "In the function `num_correct` below, compare the `truth` matrix to our prediction matrix `prediction`. Return the number of correct predictions in a tuple of two values: (correct_zero_prediction, correct_one_prediction). (10 points)\n",
    "\n",
    "A correct_zero_prediction is where our algorithm predicts a 0 and the truth matrix is a 0. (In machine learning, we call this result a 'True Negative')\n",
    "\n",
    "A correct_one_prediction is where our algorithm predicts a 1 and the truth matrix is a 1. (In machine learning, we call this result a 'True Positive')"
   ]
  },
  {
   "cell_type": "code",
   "execution_count": null,
   "id": "400588ca",
   "metadata": {},
   "outputs": [],
   "source": [
    "# Q9-14 Grading Tag:\n",
    "def num_correct(np_truth, np_pred):\n",
    "    features = np.random.randint(0, 100, 10000).reshape(1000,10)\n",
    "    weights = np.array([ 0.24540611,  0.31467517, -0.07656614, -0.16161533, -0.09064962,\n",
    "                    -0.00315615,  0.09609595,  0.2517064 ,  0.01100181, -0.38629211])\n",
    "    np.random.seed(1234)\n",
    "    truth = np.random.randint(0, 2, 1000)               \n",
    "    calced = calc_features(features, weights)\n",
    "    score = matrix_score(calced)\n",
    "    prediction = classify(score)\n",
    "    correct_zero_prediction = np.sum(np.logical_and(prediction == 0, truth == 0))\n",
    "    correct_one_prediction = np.sum(np.logical_and(prediction == 1, truth == 1))\n",
    "    return correct_zero_prediction,correct_one_prediction "
   ]
  },
  {
   "cell_type": "code",
   "execution_count": null,
   "id": "59f2307f",
   "metadata": {},
   "outputs": [],
   "source": [
    "# Should return: (233, 263)\n",
    "\n",
    "num_correct(truth, prediction)"
   ]
  }
 ],
 "metadata": {
  "kernelspec": {
   "display_name": "Python 3 (ipykernel)",
   "language": "python",
   "name": "python3"
  },
  "language_info": {
   "codemirror_mode": {
    "name": "ipython",
    "version": 3
   },
   "file_extension": ".py",
   "mimetype": "text/x-python",
   "name": "python",
   "nbconvert_exporter": "python",
   "pygments_lexer": "ipython3",
   "version": "3.10.9"
  }
 },
 "nbformat": 4,
 "nbformat_minor": 5
}
