{
 "cells": [
  {
   "attachments": {},
   "cell_type": "markdown",
   "id": "2b1cf856",
   "metadata": {},
   "source": [
    "## Week 9 Assignment - DATASCI200 Introduction to Data Science Programming, UC Berkeley MIDS"
   ]
  },
  {
   "attachments": {},
   "cell_type": "markdown",
   "id": "1bbbf149",
   "metadata": {},
   "source": [
    "Write code in this Jupyter Notebook to solve the following problems. Please upload this **Notebook** with your solutions to your GitHub repository and gradescope.\n",
    "\n",
    "Assignment due date: 11:59PM PT the night before the Week 11 Live Session."
   ]
  },
  {
   "attachments": {},
   "cell_type": "markdown",
   "id": "dde812e7",
   "metadata": {},
   "source": [
    "## Objectives\n",
    "\n",
    "- Understand different ways to manipulate and perform calculations on Numpy arrays\n",
    "- Using numpy to find the max values in each column and row, calculating the mean of a matrix\n",
    "- Demonstarting matrix value comparisons and slicing of values\n",
    "- Calculations using numpy matrixes"
   ]
  },
  {
   "attachments": {},
   "cell_type": "markdown",
   "id": "978cd08d",
   "metadata": {},
   "source": [
    "## General Guidelines:\n",
    "\n",
    "- All calculations need to be done in the functions (that includes any formatting of the output)\n",
    "- Name your functions exactly as written in the problem statement\n",
    "- Please have your functions return the answer rather than printing it inside the function\n",
    "- Do not make a separate input() statement.  The functions will be passed the input as shown in the examples\n",
    "- The examples given are samples of how we will test/grade your code. Please ensure your functions output the same information\n",
    "- Answer format is graded - please match the examples\n",
    "- Docstrings and comments in your code are strongly suggested but won't be graded\n",
    "- In each code block, do NOT delete the ### comment at the top of a cell (it's needed for the auto-grading!)\n",
    "  - Do NOT print or put other statements in the grading cells. The autograder will fail - if this happens please delete those statments and re-submit \n",
    "  - You will get 70 points from the autograder for this assignment and 30 points will be hidden. That is, passing all of the visible tests will give you 70 points. Make sure you are meeting the requirements of the problem to get the other 30 points \n",
    "  - The 30 'hidden' points are the same questions run on a different matrix - make sure your code is generalizable to work on different matrixes!\n",
    "  - Full autograder tests and results are on gradescope.\n",
    "  - You may upload and run the autograder as many times as needed in your time window to get full points\n",
    "  - The assignment needs to be named HW_Unit_09.ipynb to be graded from the autograder!\n",
    "  - The examples given are samples of how we will test/grade your code. Please ensure your code outputs the same information.\n",
    "    - In addition to the given example, the autograder will test other examples\n",
    "    - Each autograder test tells you what input it is using\n",
    "  - Once complete, the autograder will show each tests, if that test is passed or failed, and your total score\n",
    "  - The autograder fails for a couple of reasons:\n",
    "    - Your code crashes with that input (for example: `Test Failed: string index out of range`)\n",
    "    - Your code output does not match the 'correct' output (for example: `Test Failed: '1 2 3 2 1' != '1 4 6 4 1'`"
   ]
  },
  {
   "attachments": {},
   "cell_type": "markdown",
   "id": "96b6f851",
   "metadata": {},
   "source": [
    "### Instructions\n",
    "\n",
    "In this assignment, we will work with NumPy. For each question below, use NumPy functionality to execute the logic of your answer. <br>(**Do not use ```for``` or ```while``` loops!**)\n",
    "\n",
    "The first cell (below) makes two matrixes we will use for this assignment. \n",
    "- The first matrix named `features` is a 1000 row x 10 column matrix that contains a sample of our data. \n",
    "  - Each row is a one sample of the data and each column is the weight of that feature for that sample\n",
    "  - The matrix has been 'normalized' to have positive integer values on a scale of 0-100\n",
    "- The second matrix named `weights` is a 1 row by 10 column matrix consisting of the weights from the algorithm \n",
    "  - Each column corresponds to the 'weight' of that feature in the calculation of a prediction result\n",
    "  - The weights are in the range -1 to +1 and indicate the 'correlation' between that feature and the prediciton result with a negative weight being a negative correlation"
   ]
  },
  {
   "cell_type": "code",
   "execution_count": 152,
   "id": "4f6b1baf",
   "metadata": {},
   "outputs": [],
   "source": [
    "import numpy as np\n",
    "np.random.seed(25)\n",
    "\n",
    "# Creating the matrixes to use for the problem\n",
    "features = np.random.randint(0, 100, 10000).reshape(1000,10)\n",
    "weights = np.array([ 0.24540611,  0.31467517, -0.07656614, -0.16161533, -0.09064962,\n",
    "                    -0.00315615,  0.09609595,  0.2517064 ,  0.01100181, -0.38629211])"
   ]
  },
  {
   "attachments": {},
   "cell_type": "markdown",
   "id": "c70e0644",
   "metadata": {},
   "source": [
    "***\n",
    "\n",
    "##### Data Quality checks\n",
    "\n",
    "The first few questions below are some checks to access the data quality of the arrays. Since the arrays were made above, we already know their composition but its good practise to check the data that they contain. "
   ]
  },
  {
   "attachments": {},
   "cell_type": "markdown",
   "id": "3b3982df",
   "metadata": {},
   "source": [
    "**1)** \n",
    "\n",
    "In the function `get_shape` below, return the shape of a given matrix. (5 points)"
   ]
  },
  {
   "cell_type": "code",
   "execution_count": 153,
   "id": "045003da",
   "metadata": {},
   "outputs": [],
   "source": [
    "# Q9-1 Grading Tag:\n",
    "def get_shape(ar):\n",
    "    return ar.shape"
   ]
  },
  {
   "cell_type": "code",
   "execution_count": 154,
   "id": "1cd284d0",
   "metadata": {},
   "outputs": [
    {
     "data": {
      "text/plain": [
       "(1000, 10)"
      ]
     },
     "execution_count": 154,
     "metadata": {},
     "output_type": "execute_result"
    }
   ],
   "source": [
    "# Should return: (1000, 10)\n",
    "\n",
    "get_shape(features)"
   ]
  },
  {
   "attachments": {},
   "cell_type": "markdown",
   "id": "6ea6fef1",
   "metadata": {},
   "source": [
    "**2)** \n",
    "\n",
    "In the function `check_min_max` below, return the minimum value and maximum value of an inputted matrix as a tuple (minimum_value, maximum_value) (5 points)"
   ]
  },
  {
   "cell_type": "code",
   "execution_count": 155,
   "id": "c451aeb6",
   "metadata": {},
   "outputs": [],
   "source": [
    "# Q9-2 Grading Tag:\n",
    "def check_min_max(ar):\n",
    "    return (np.min(ar),np.max(ar))\n"
   ]
  },
  {
   "cell_type": "code",
   "execution_count": 156,
   "id": "ba25ae64",
   "metadata": {},
   "outputs": [
    {
     "data": {
      "text/plain": [
       "(0, 99)"
      ]
     },
     "execution_count": 156,
     "metadata": {},
     "output_type": "execute_result"
    }
   ],
   "source": [
    "# Should return: (0, 99)\n",
    "\n",
    "check_min_max(features)"
   ]
  },
  {
   "attachments": {},
   "cell_type": "markdown",
   "id": "6d260b9f",
   "metadata": {},
   "source": [
    "**3)** \n",
    "\n",
    "In the function `count_nan` below, return the count of the number of NaN values (NaN = 'Not a Number' or Null values) of an inputted matrix (5 points)"
   ]
  },
  {
   "cell_type": "code",
   "execution_count": 157,
   "id": "88097851",
   "metadata": {},
   "outputs": [],
   "source": [
    "# Q9-3 Grading Tag:\n",
    "def count_nan(ar):\n",
    "    Total_NaN = np.sum(np.isnan(ar))\n",
    "    return Total_NaN"
   ]
  },
  {
   "cell_type": "code",
   "execution_count": 158,
   "id": "be16eabf",
   "metadata": {},
   "outputs": [
    {
     "data": {
      "text/plain": [
       "0"
      ]
     },
     "execution_count": 158,
     "metadata": {},
     "output_type": "execute_result"
    }
   ],
   "source": [
    "# Should return: 0\n",
    "\n",
    "count_nan(weights)"
   ]
  },
  {
   "attachments": {},
   "cell_type": "markdown",
   "id": "da2d87b4",
   "metadata": {},
   "source": [
    "***\n",
    "\n",
    "##### Outlier Identification\n",
    "\n",
    "The next questions below are functions to identify outliers. A good practise is to identify outliers, as outliers are sometimes the most interesting cases to look into but also might cause problems with a machine learning algorithm."
   ]
  },
  {
   "attachments": {},
   "cell_type": "markdown",
   "id": "86b5b1c5",
   "metadata": {},
   "source": [
    "**4)** \n",
    "\n",
    "In the function `get_median` below, return the median value for each column of an inputted matrix (that is the median value - column-wise) (5 points)"
   ]
  },
  {
   "cell_type": "code",
   "execution_count": 159,
   "id": "3f8a3e74",
   "metadata": {},
   "outputs": [],
   "source": [
    "# Q9-4 Grading Tag:\n",
    "def get_median(ar):\n",
    "    return np.median(ar,axis=0)"
   ]
  },
  {
   "cell_type": "code",
   "execution_count": 160,
   "id": "54be9f2b",
   "metadata": {},
   "outputs": [
    {
     "data": {
      "text/plain": [
       "array([50. , 49. , 50. , 49. , 50. , 52. , 49. , 49. , 49. , 50.5])"
      ]
     },
     "execution_count": 160,
     "metadata": {},
     "output_type": "execute_result"
    }
   ],
   "source": [
    "# Should return: array([50. , 49. , 50. , 49. , 50. , 52. , 49. , 49. , 49. , 50.5])\n",
    "\n",
    "get_median(features)"
   ]
  },
  {
   "attachments": {},
   "cell_type": "markdown",
   "id": "fa37b18a",
   "metadata": {},
   "source": [
    "**5)** \n",
    "\n",
    "In the function `feat_minimum` below, return the row index that contains the minimum value in a given matrix. (10 points)\n",
    "\n",
    "For example - in the matrix below, the minimum value is 2 and that appears in rows 1 and 3 so the function would return the row indexes `array([1,3])`:\n",
    "\n",
    "```\n",
    "test_matrix = np.array([[ 4, 62, 90],\n",
    "                        [ 2, 89, 31],\n",
    "                        [84, 45,  3],\n",
    "                        [24, 54,  2]])\n",
    "\n",
    "feat_minimum(test_matrix) -> array([1,3])\n",
    "```"
   ]
  },
  {
   "cell_type": "code",
   "execution_count": 161,
   "id": "dc78d541",
   "metadata": {},
   "outputs": [],
   "source": [
    "# Q9-5 Grading Tag:\n",
    "def feat_minimum(ar):\n",
    "    lowest_value = np.min(ar)\n",
    "    row_index = np.where(ar == lowest_value)[0]\n",
    "    return row_index"
   ]
  },
  {
   "cell_type": "code",
   "execution_count": 162,
   "id": "dd0c0ff1",
   "metadata": {},
   "outputs": [
    {
     "data": {
      "text/plain": [
       "array([ 12,  14,  15,  24,  44,  51,  57,  65,  73,  80,  83,  93,  94,\n",
       "        99, 106, 106, 111, 112, 114, 126, 172, 186, 202, 209, 224, 230,\n",
       "       239, 259, 264, 270, 281, 284, 297, 299, 305, 306, 308, 364, 367,\n",
       "       367, 370, 383, 390, 396, 417, 427, 437, 444, 462, 478, 480, 490,\n",
       "       500, 529, 539, 542, 552, 553, 579, 595, 612, 618, 619, 627, 636,\n",
       "       643, 646, 667, 679, 681, 719, 720, 720, 725, 732, 735, 741, 743,\n",
       "       775, 775, 807, 807, 811, 823, 834, 847, 852, 863, 865, 870, 871,\n",
       "       874, 903, 907, 921, 932, 963, 971, 987, 990, 992, 993])"
      ]
     },
     "execution_count": 162,
     "metadata": {},
     "output_type": "execute_result"
    }
   ],
   "source": [
    "# Should return: \n",
    "# array([ 12,  14,  15,  24,  44,  51,  57,  65,  73,  80,  83,  93,  94,\n",
    "#         99, 106, 106, 111, 112, 114, 126, 172, 186, 202, 209, 224, 230,\n",
    "#        239, 259, 264, 270, 281, 284, 297, 299, 305, 306, 308, 364, 367,\n",
    "#        367, 370, 383, 390, 396, 417, 427, 437, 444, 462, 478, 480, 490,\n",
    "#        500, 529, 539, 542, 552, 553, 579, 595, 612, 618, 619, 627, 636,\n",
    "#        643, 646, 667, 679, 681, 719, 720, 720, 725, 732, 735, 741, 743,\n",
    "#        775, 775, 807, 807, 811, 823, 834, 847, 852, 863, 865, 870, 871,\n",
    "#        874, 903, 907, 921, 932, 963, 971, 987, 990, 992, 993], dtype=int64)\n",
    "\n",
    "feat_minimum(features)\n"
   ]
  },
  {
   "attachments": {},
   "cell_type": "markdown",
   "id": "7e506335",
   "metadata": {},
   "source": [
    "**6)** \n",
    "\n",
    "In the function `feat_maximum` below, return the row index with the maximum value for the `feat_num` feature. For example, if the function was passed 3 for the `feat_num`, it would find the row index with the maximum value for the fourth feature (column 3). (10 points) \n",
    "\n",
    "(Hint: Build on what you made in #5 above!)\n",
    "\n",
    "More in-depth example: in the matrix below, for feature 1 (passed as `feat_num`) the maximum value is 89 and that appears in rows 1 and 2 so the function would return the row indexes `array([1,2])`:\n",
    "\n",
    "```\n",
    "test_matrix = np.array([[ 4, 62,  9],\n",
    "                        [ 2, 89, 31],\n",
    "                        [84, 89,  3],\n",
    "                        [89, 54,  2]])\n",
    "\n",
    "feat_maximum(test_matrix, 1) -> array([1,2])\n",
    "```"
   ]
  },
  {
   "cell_type": "code",
   "execution_count": 163,
   "id": "120012cb",
   "metadata": {},
   "outputs": [],
   "source": [
    "# Q9-6 Grading Tag:\n",
    "def feat_maximum(ar, feat_num):\n",
    "    highest_value = np.max(ar[:, feat_num])\n",
    "    row_index_high = np.where(ar[:, feat_num] == highest_value)[0]\n",
    "    return row_index_high"
   ]
  },
  {
   "cell_type": "code",
   "execution_count": 164,
   "id": "e6caaff3",
   "metadata": {},
   "outputs": [
    {
     "data": {
      "text/plain": [
       "array([ 14,  94, 120, 161, 168, 483, 634, 650, 662, 699, 938, 997])"
      ]
     },
     "execution_count": 164,
     "metadata": {},
     "output_type": "execute_result"
    }
   ],
   "source": [
    "# Should return: \n",
    "# array([ 14,  94, 120, 161, 168, 483, 634, 650, 662, 699, 938, 997], dtype=int64)\n",
    "\n",
    "feat_maximum(features, 3)"
   ]
  },
  {
   "attachments": {},
   "cell_type": "markdown",
   "id": "c04dc6ea",
   "metadata": {},
   "source": [
    "**7)** \n",
    "\n",
    "In the function `outlier_high` below, return the count of the number of values at or above 90 in a matrix. (5 points)"
   ]
  },
  {
   "cell_type": "code",
   "execution_count": 165,
   "id": "a9192e74",
   "metadata": {},
   "outputs": [],
   "source": [
    "# Q9-7 Grading Tag:\n",
    "def outlier_high(ar):\n",
    "    outlier_90 = np.sum(ar>=90)\n",
    "    return outlier_90"
   ]
  },
  {
   "cell_type": "code",
   "execution_count": 166,
   "id": "b7d247a9",
   "metadata": {},
   "outputs": [
    {
     "data": {
      "text/plain": [
       "990"
      ]
     },
     "execution_count": 166,
     "metadata": {},
     "output_type": "execute_result"
    }
   ],
   "source": [
    "# Should return 990\n",
    "\n",
    "outlier_high(features)"
   ]
  },
  {
   "attachments": {},
   "cell_type": "markdown",
   "id": "0e8882e8",
   "metadata": {},
   "source": [
    "**8)** \n",
    "\n",
    "In the function `outlier_low` below, return the count of the number of values at or below 10 in a matrix. (5 points)"
   ]
  },
  {
   "cell_type": "code",
   "execution_count": 167,
   "id": "10a8516f",
   "metadata": {},
   "outputs": [],
   "source": [
    "# Q9-8 Grading Tag:\n",
    "def outlier_low(ar):\n",
    "    outlier_10 = np.sum(ar<=10)\n",
    "    return outlier_10"
   ]
  },
  {
   "cell_type": "code",
   "execution_count": 168,
   "id": "0626c252",
   "metadata": {},
   "outputs": [
    {
     "data": {
      "text/plain": [
       "1043"
      ]
     },
     "execution_count": 168,
     "metadata": {},
     "output_type": "execute_result"
    }
   ],
   "source": [
    "# Should return 1043\n",
    "\n",
    "outlier_low(features)"
   ]
  },
  {
   "attachments": {},
   "cell_type": "markdown",
   "id": "aa04367b",
   "metadata": {},
   "source": [
    "***\n",
    "\n",
    "##### Prediction\n",
    "\n",
    "The next questions below are functions to use the matrixes made above to calculate a prediction result. This is a simplified example of what some machine learning algorithms do to provide a prediction."
   ]
  },
  {
   "attachments": {},
   "cell_type": "markdown",
   "id": "0b770de9",
   "metadata": {},
   "source": [
    "**9)** \n",
    "\n",
    "In the function `calc_features` below, multiply each row of the `features` matrix with the `weights` matrix return this new matrix and name it `calced`. (5 points)"
   ]
  },
  {
   "cell_type": "code",
   "execution_count": 169,
   "id": "3d2b7e23",
   "metadata": {},
   "outputs": [],
   "source": [
    "# Q9-9 Grading Tag:\n",
    "def calc_features(np_feat, np_weight):\n",
    "    calced = np_feat* np_weight \n",
    "    return calced"
   ]
  },
  {
   "cell_type": "code",
   "execution_count": 170,
   "id": "7de111c2",
   "metadata": {},
   "outputs": [],
   "source": [
    "# Expected first couple of lines:\n",
    "# array([[  0.98162444,  19.50986054,  -6.8909526 , ...,  12.58532   ,\n",
    "#           0.08801448, -10.81617908],\n",
    "#        [  0.98162444,  28.00609013,  -2.37355034, ...,  22.1501632 ,\n",
    "#           0.60509955,  -1.15887633],  ...\n",
    "\n",
    "calced = calc_features(features, weights)\n",
    "#calced"
   ]
  },
  {
   "attachments": {},
   "cell_type": "markdown",
   "id": "a14ac2f2",
   "metadata": {},
   "source": [
    "**10)** \n",
    "\n",
    "In the function `matrix_score` below, sum the values of the `calced` matrix (from 9 above) row-wise to get a single weighted 'score' for each row return this new matrix and name it `score` (10 points)"
   ]
  },
  {
   "cell_type": "code",
   "execution_count": 171,
   "id": "53c53ea4",
   "metadata": {},
   "outputs": [],
   "source": [
    "# Q9-10 Grading Tag:\n",
    "def matrix_score(np_calc):\n",
    "    features = np.random.randint(0, 100, 10000).reshape(1000,10)\n",
    "    weights = np.array([ 0.24540611,  0.31467517, -0.07656614, -0.16161533, -0.09064962,\n",
    "                    -0.00315615,  0.09609595,  0.2517064 ,  0.01100181, -0.38629211])\n",
    "    score = np.sum(np_calc, axis=1)\n",
    "    return score"
   ]
  },
  {
   "cell_type": "code",
   "execution_count": 172,
   "id": "53462c71",
   "metadata": {},
   "outputs": [
    {
     "data": {
      "text/plain": [
       "array([ 1.16594614e+01,  3.71336413e+01,  4.33563146e+01,  1.62602648e+01,\n",
       "        2.84698142e+01,  2.60448311e+01, -4.23597988e+00,  4.25279392e+01,\n",
       "       -3.87938299e+00, -1.61084968e+01,  2.76975008e+01, -4.93653935e+00,\n",
       "        3.03372321e+01, -5.43016106e+00, -8.18526521e+00, -3.10425856e+01,\n",
       "       -1.67602620e-01, -9.86300400e+00,  8.57102190e+00,  1.83061556e+01,\n",
       "        1.03612437e+01,  1.03537594e+01, -3.44494672e+01,  2.94053872e+01,\n",
       "        7.98761017e+00,  2.10305845e+01,  1.78591507e+01,  2.76221701e+01,\n",
       "        1.57335691e+00,  1.39403606e+01,  3.26116549e+01,  3.99039209e+01,\n",
       "        1.61406621e+01,  8.97154331e+00,  8.45139225e+00,  2.96211306e+01,\n",
       "        5.13756777e+01, -1.55714248e+01, -5.22346183e+00,  4.80747655e+00,\n",
       "        3.12327760e+01,  3.21562221e+01, -4.53177822e+00,  3.09504186e+00,\n",
       "       -5.80587781e+00, -4.14592496e+01,  9.72832540e-01,  2.09722624e+00,\n",
       "       -4.29674952e+00, -3.41426193e+00,  1.79925093e+01,  2.17534163e+01,\n",
       "        3.07569046e+01, -4.40886622e+01,  1.42959431e+01,  4.04399436e+01,\n",
       "       -3.44106654e+00,  1.10956406e+01, -3.47888657e+01,  1.30968299e+01,\n",
       "        2.62186330e+01,  1.05905620e+01,  4.87681042e+00,  5.30231395e+01,\n",
       "        7.57392796e+00,  3.05087244e+01,  1.03048092e+00,  7.75960960e-01,\n",
       "        9.39013974e+00,  3.32467786e+01, -2.85860237e+00,  2.91404129e+01,\n",
       "       -4.95100655e+00, -1.75642070e+01, -7.88027291e+00, -1.63105380e+00,\n",
       "        2.14587764e+01,  3.20868184e+01,  3.05704823e+01,  9.69475979e+00,\n",
       "       -3.72725953e+00, -4.29675576e+00,  4.50001243e+00,  1.39545010e+01,\n",
       "        1.55673401e+01, -2.14852369e+01,  7.97473021e+00, -3.63341273e+00,\n",
       "       -2.14656689e+01,  4.28673110e+01,  2.81732267e+01, -1.28868631e+00,\n",
       "        6.59627353e+00,  7.03280861e+00,  2.61602257e+01,  1.84369488e+01,\n",
       "        2.79563645e+01,  2.49996874e+01, -8.43766598e+00,  3.13560470e+00,\n",
       "        1.39626701e+01,  2.48869872e+01,  1.64373888e+01,  3.52318409e+01,\n",
       "        8.53545570e-01,  4.89221118e+01, -3.57858236e+00, -6.82665299e+00,\n",
       "       -1.41088913e+01,  2.84112558e+01, -1.27956815e+01,  2.72153710e+00,\n",
       "       -7.63561220e-01,  1.91296099e+01,  2.87483685e+01, -3.69895804e+00,\n",
       "       -2.32452668e+00,  4.06978105e+01,  2.84223471e+01,  4.84912229e+01,\n",
       "       -7.01920160e-01,  5.80872715e+00, -2.45781189e+01,  2.46953102e+01,\n",
       "       -9.68240425e+00,  1.86930225e+00,  1.20851557e+01,  1.46866779e+01,\n",
       "       -1.71002457e+01,  8.08051873e+00,  3.55750168e+01, -4.08799908e+00,\n",
       "        2.92237285e+01,  1.37877049e+01,  7.39905955e+00, -5.60652698e+00,\n",
       "       -1.65743290e+00, -9.30903630e-01, -7.28621595e+00,  1.32351630e+01,\n",
       "       -1.31367874e+01, -1.48311419e+01,  2.27620399e+01, -1.63067155e+01,\n",
       "        3.25468633e+01,  1.89924087e+01,  1.38302155e+01,  1.06114451e+01,\n",
       "       -6.09502773e+00, -4.53813962e+00,  9.44393057e+00,  1.82367960e+01,\n",
       "        3.50238744e+01,  2.81707430e+00,  1.22415278e+01,  1.16154126e+01,\n",
       "        2.50110631e+01, -5.37445207e+00,  5.59767155e+00, -1.00252420e-01,\n",
       "        1.96368395e+01,  2.01571972e+01,  1.84174142e+01,  1.63632025e+01,\n",
       "        2.31010720e+01, -1.88714633e+01,  2.67325052e+01,  1.22375946e+01,\n",
       "        5.95539686e+00,  7.52825385e+00,  1.82822039e+01,  2.11374067e+01,\n",
       "        2.87970643e+01,  1.89910256e+01,  1.21904379e+01,  4.67689951e+00,\n",
       "       -1.68616479e+01,  4.05430715e+01, -1.51531048e+01,  2.43614503e+00,\n",
       "        6.85978966e+00,  2.08047039e+01,  1.98801885e+01,  8.14607418e+00,\n",
       "        2.37912412e+01,  6.82704231e+00, -3.83818242e+00,  5.10463423e+00,\n",
       "        2.25951041e+00,  6.22237632e+01, -2.65901028e+01,  1.87251920e+01,\n",
       "       -5.27569300e-02,  2.13077651e+01,  1.05553975e+01, -3.65953356e+01,\n",
       "       -1.54967387e+01,  8.52467503e+00,  7.41476999e+00,  5.28583221e+00,\n",
       "       -1.89251349e+01, -6.32584560e-01,  2.15509813e+01,  2.26066096e+00,\n",
       "        2.82262058e+01,  9.40240985e+00,  1.24527812e+01, -1.26486594e+01,\n",
       "        2.55301487e+01,  2.05544798e+01,  3.61714691e+01,  2.53323426e+01,\n",
       "        1.68210736e+01,  8.81063733e+00,  1.14898295e+01,  5.96477256e+00,\n",
       "       -2.54952100e+00, -3.74449577e+00,  1.92499658e+01,  1.96857981e+01,\n",
       "        3.36477363e+00,  5.13541144e+00,  2.13682597e+01, -9.70785064e+00,\n",
       "        5.88566986e+00,  1.76865497e+01, -5.30735717e+00,  2.07999391e+01,\n",
       "        2.16661550e+01,  3.43086827e+00, -3.52397637e+00,  1.37154719e+01,\n",
       "        1.96652334e+01,  8.52459251e+00,  3.21320560e+01,  3.16870480e+01,\n",
       "        3.16386403e+01,  1.00656133e+01, -5.99395073e+00, -2.03261230e+01,\n",
       "        1.33945870e-01, -2.64198898e+01, -3.83979726e+00,  3.18558208e+00,\n",
       "       -2.20559657e+01, -2.25285191e+01, -7.24988380e+00,  3.71278865e+00,\n",
       "        2.45931875e+01,  4.35396806e+01,  3.14952340e+01, -1.73039788e+01,\n",
       "        4.07002110e+01, -3.54591285e+00,  3.26285786e+01,  3.19129011e+01,\n",
       "       -1.21337740e+01,  1.02905034e+01, -1.75458265e+01, -2.41471034e+01,\n",
       "       -2.99229621e+01,  4.09247153e+01,  2.46741653e+00,  2.67363638e+01,\n",
       "        2.73589444e+00,  2.17847948e+01,  1.49763926e+01, -3.97499728e+00,\n",
       "        2.12308729e+01,  2.28530469e+01,  5.20866487e+01,  2.63321926e+01,\n",
       "       -6.98103489e+00,  1.12629974e+01,  4.51935057e+01,  3.13410771e+01,\n",
       "        2.30562380e-01, -1.69821578e+01, -2.48321001e+01, -2.47968303e+00,\n",
       "       -9.37351100e-01, -8.43149361e+00,  1.62212171e+01,  1.71165565e+01,\n",
       "        1.35298470e+01,  2.48191516e+01, -2.80900388e+00,  3.56778444e+01,\n",
       "        2.13196245e+01, -1.94725625e+00,  1.77868109e+01, -5.87252870e-01,\n",
       "       -1.34964796e+01,  1.03684063e+01, -1.03513695e+01, -8.37620760e-01,\n",
       "        2.00853476e+01,  1.00550723e+01, -4.77973332e+00,  1.90705630e+01,\n",
       "        9.43321029e+00,  3.05314477e+01,  1.37418213e+01,  7.07959262e+00,\n",
       "        1.54460411e+01,  2.05282335e+01,  1.99187839e+01,  1.54231561e+01,\n",
       "       -7.77437420e+00, -1.12686305e+01, -7.97663370e-01,  2.23645788e+01,\n",
       "        2.82748947e+01, -3.99521932e+00,  3.33122181e+00,  4.43241367e+01,\n",
       "        1.85380664e+01, -1.65106592e+01,  2.52299663e+01,  2.60489881e+01,\n",
       "       -2.10211353e+01,  4.49434919e+01, -1.84239293e+01, -2.34218217e+01,\n",
       "        6.58875580e+00,  1.34234147e+01, -1.12412912e+01,  3.99163799e+01,\n",
       "       -7.48136432e+00,  3.30973770e-01,  6.36591139e+01, -8.03822210e-01,\n",
       "        5.52390620e-01,  3.12511746e+01,  1.33645972e+01,  1.16444625e+01,\n",
       "        3.58280267e+01, -1.55180522e+01, -2.41509119e+00,  1.78296179e+01,\n",
       "        2.91823060e+01,  2.69626312e+01,  1.39978291e+01,  3.27156939e+01,\n",
       "       -7.56366173e+00,  9.32701418e+00, -1.86515604e+01,  5.90633389e+00,\n",
       "        1.47840773e+01,  4.75177052e+00,  1.12538351e+01,  1.79075290e+01,\n",
       "       -2.59980388e+01,  5.39105556e+01,  1.12882839e+01,  3.22647149e+00,\n",
       "        1.12647185e+01,  1.07282606e+01,  4.01836782e+01,  1.34883672e+01,\n",
       "        1.86007001e+00,  3.09051497e+01, -1.14102699e+01, -9.56556799e+00,\n",
       "        1.54880249e+01,  2.33546882e+01,  8.07212692e+00,  8.74874305e+00,\n",
       "        1.39964582e+01,  2.86157495e+01,  3.02217089e+01, -1.11102304e+01,\n",
       "       -1.33999593e+01,  3.69105686e+00,  3.83276876e+01,  2.49903970e+01,\n",
       "        2.07904363e+01,  7.87557991e+00,  1.73776907e+01,  1.10897903e+01,\n",
       "        2.85577943e+01,  2.76876996e+01,  2.87619324e+01, -2.58441934e+00,\n",
       "        2.17229180e+01,  2.35461908e+01,  9.93404990e+00,  2.85643937e+01,\n",
       "        1.07391711e+00, -4.47971617e+00,  7.08646195e+00,  3.10931768e+01,\n",
       "       -5.79505905e+00,  1.41875372e+01,  1.68907502e+01, -3.65232702e+01,\n",
       "       -5.53463776e+00,  2.36360300e+01, -1.47290184e+00,  1.21183647e+00,\n",
       "        2.14050898e+01, -7.59429600e-01,  1.08116797e+00,  1.86854264e+01,\n",
       "       -8.50995613e+00,  1.03684685e+01,  4.62576313e+00, -5.81519580e+00,\n",
       "        2.05859767e+01,  1.32752211e+01,  2.70240601e+01,  2.69364121e+01,\n",
       "        9.63789519e+00,  6.43440825e+00,  3.08124909e+01,  3.92738451e+01,\n",
       "        2.29972639e+01,  1.56824780e+01, -1.05879235e+01,  2.80476031e+01,\n",
       "        1.41013090e+01, -2.91220021e+00, -6.45016247e+00,  4.10645145e+01,\n",
       "        2.48276465e+01,  1.15443719e+01, -1.05648252e+00,  5.02024067e+01,\n",
       "        1.53310090e+01, -1.28989501e+00, -5.32992144e+00, -2.17764133e+01,\n",
       "       -1.17564459e+00, -8.90396747e+00, -1.28554164e+01,  1.10188049e+01,\n",
       "       -1.91258879e+01, -3.74150834e+01,  2.07608200e+01,  1.11105329e+01,\n",
       "        2.05241106e+00,  9.35947902e+00,  1.52433673e+01,  7.07931430e+00,\n",
       "        4.21902406e+01, -2.09660586e+01,  1.93868687e+01,  5.51180373e+00,\n",
       "        1.20757726e+01,  3.33425421e+01,  2.23844929e+01,  1.67648551e+01,\n",
       "        1.82454690e+01, -1.37524063e+01,  9.86209946e+00, -1.04046085e+01,\n",
       "        2.71715006e+01, -1.11200765e+01, -2.72427398e+00, -2.63700001e+00,\n",
       "        1.57837800e+01,  1.87161461e+01,  6.04151754e+00, -1.01084480e+00,\n",
       "       -4.45329289e+00, -7.91904373e+00, -2.40861822e+00,  5.25394962e+00,\n",
       "        1.47504424e+01,  4.37563420e+01,  2.75308456e+01,  1.51631760e+01,\n",
       "       -2.60572383e+01, -2.95325619e+01,  1.30050460e+01,  3.85780369e+01,\n",
       "        6.97182351e+00,  3.15684927e+00, -9.09773711e+00,  2.99056694e+01,\n",
       "       -1.15299096e+01,  1.38692795e+01,  2.78411283e+00,  1.16935538e+01,\n",
       "        1.07280718e+01, -2.00065129e+01,  1.40769084e+00,  2.19520785e+01,\n",
       "       -1.09682462e+00,  4.07162487e+00,  4.60211525e+00, -3.36943548e+00,\n",
       "        4.22229640e+00, -8.84356385e+00, -8.13052338e+00,  3.69112625e+00,\n",
       "        5.93243389e+01,  8.08589380e+00, -1.76428159e+00,  1.34304428e+01,\n",
       "        2.24578541e+01, -5.88375722e+00,  4.89883905e+01,  2.77307432e+01,\n",
       "       -1.28166547e+01, -1.36139051e+01,  1.27477052e+01, -3.07334687e+00,\n",
       "        1.22490693e+01,  1.71238360e+01,  2.63284484e+00, -2.71203330e+01,\n",
       "        1.68130100e+01,  5.64548400e+00,  1.18757494e+01, -3.91278835e+01,\n",
       "       -7.71506331e+00, -2.65264841e+01,  1.67583087e+01,  1.52374800e+01,\n",
       "        2.18076315e+01,  2.46715011e+01,  2.76166047e+01, -1.05915295e+01,\n",
       "       -3.80156790e-01,  9.57362994e+00, -1.03716490e+01, -1.72823740e+01,\n",
       "       -1.80157131e+01,  9.47800905e+00,  3.46016605e+01,  1.83899948e+01,\n",
       "        1.49873154e+01, -6.53096373e+00, -8.45672328e+00,  1.88961190e+01,\n",
       "        6.04741240e-01,  2.42518424e+01,  2.79807329e+01,  2.65291638e+00,\n",
       "       -1.45506000e-01,  6.73182120e-01, -9.81402650e+00,  2.62672952e+01,\n",
       "        1.07050809e+01,  4.26247654e+01, -2.78689086e+01,  3.20835138e+01,\n",
       "        3.14381661e+01, -1.70613522e+01, -1.86732625e+01, -1.05320202e+01,\n",
       "        9.49729809e+00,  2.77416686e+01,  4.70456313e+01,  3.07568658e+01,\n",
       "        8.17849589e+00,  3.74158573e+01,  3.31154905e+01,  3.40021143e+01,\n",
       "       -1.86925115e+01,  3.85358421e+01,  1.08880240e+01,  1.04949173e+01,\n",
       "        3.83249814e+01,  2.57481758e+00,  9.87168733e+00, -4.89482735e+00,\n",
       "       -3.01457466e+00, -3.99199581e+00, -3.13336111e+00, -3.17696572e+00,\n",
       "        3.55790647e+01, -8.55967990e-01,  5.45225908e+01, -2.91109640e+00,\n",
       "       -1.99694138e+00,  4.64189151e+01, -2.30155281e+01, -1.48764502e+01,\n",
       "        1.71121486e+00,  1.82348328e+01,  1.68756204e+01,  4.35041306e+01,\n",
       "        3.97146791e+01,  5.03686920e+00,  2.14709822e+01,  4.69933285e+00,\n",
       "       -2.05470020e+00, -1.45321907e+00,  7.11109802e+00,  1.40776062e+00,\n",
       "        2.78772573e+00,  1.43188751e+01, -1.16353402e+01, -2.75972670e-01,\n",
       "       -2.32490504e+01, -3.04519817e+01,  7.63946322e+00,  1.92959397e+01,\n",
       "        2.66572682e+01,  2.64780770e+01,  3.10750576e+01,  7.06215250e-01,\n",
       "        4.48167278e+01,  1.09495396e+01,  2.60564928e+01,  1.83449461e+01,\n",
       "        5.12870758e+01, -4.40134803e+00,  1.00015869e+01, -7.96409620e+00,\n",
       "        2.82674689e+01,  3.01997578e+01,  4.76289470e+00,  2.45993839e+01,\n",
       "       -2.12581757e+01,  9.99898017e+00,  2.20065745e+01,  2.09249281e+01,\n",
       "       -3.49386060e-01,  4.14314181e+01, -6.83541042e+00, -1.88424969e+01,\n",
       "       -1.81613889e+01,  5.11201815e+00, -1.73970542e+00, -2.65365348e+01,\n",
       "        4.11009329e+01,  1.90016036e+01,  3.41281455e+01,  2.13509556e+01,\n",
       "        9.65216482e+00,  4.73043860e+01,  2.62940521e+01, -1.68596246e+01,\n",
       "        3.17184316e+00, -1.16149291e+01,  1.71589701e+01,  7.33597946e+00,\n",
       "       -4.70860007e+00, -4.23753354e+00,  2.89964916e+01,  1.75626257e+01,\n",
       "        3.63340588e+01,  3.26563387e+01,  3.26566371e+01,  1.71533074e+01,\n",
       "       -1.01342513e+01,  1.35290889e+01,  1.00886397e+01,  3.51656195e+00,\n",
       "        3.50656190e+01,  1.38798360e+01,  3.66017623e+01,  6.99726030e+00,\n",
       "        2.48639939e+01,  2.89069865e+00,  1.73449762e+01,  1.44643913e+01,\n",
       "       -2.03082708e+01,  2.44144055e+01,  5.09725024e+00,  1.24793302e+01,\n",
       "        1.82122502e+01,  1.43490287e+01,  2.99712614e+01, -3.47695955e+01,\n",
       "       -3.76522655e+00, -2.19542763e+01,  2.36654018e+01,  7.87089451e+00,\n",
       "        1.76585190e+01,  2.45407637e+01, -2.02705631e+01,  7.90201250e-01,\n",
       "        4.38373459e+01,  1.66548610e+01, -1.37091305e+01,  1.97571758e+01,\n",
       "        6.74347340e+00,  1.60015199e+01, -2.18803770e+01,  1.44532521e+01,\n",
       "        1.79138914e+01,  5.89660580e-01,  3.80918515e+01,  2.22489075e+01,\n",
       "        9.81519340e+00,  2.84942619e+01,  2.22409258e+01, -3.53257360e+00,\n",
       "       -2.60840921e+00,  2.36092969e+01,  3.12490573e+01,  3.25411479e+01,\n",
       "        2.25658716e+01, -1.24430443e+00,  1.50493927e+01, -6.19064094e+00,\n",
       "        1.62035584e+01,  2.05388210e+01, -2.59056081e+01, -8.13603191e+00,\n",
       "        1.06893155e+01,  3.86764237e+00, -7.47316320e+00,  5.60888211e+00,\n",
       "        3.31478092e+01,  1.82169678e+01,  2.92295133e+01,  4.02527221e+00,\n",
       "       -1.92130873e+01,  2.34409026e+01,  7.76565150e-01,  2.73906001e+00,\n",
       "        1.16662214e+01, -2.62439388e+00,  2.06455663e+01,  2.80818149e+01,\n",
       "        1.91723558e+00, -1.50384623e+01,  2.16551921e+00,  2.72415848e+01,\n",
       "        6.37281063e+00, -2.28913147e+01,  2.95114350e+01,  2.85758738e+01,\n",
       "        1.05799195e+01,  2.52597346e+01,  3.26654480e+01,  2.29820008e+01,\n",
       "        2.34878476e+01,  1.54930343e+01,  9.90491350e-01,  3.78126540e-01,\n",
       "       -1.91510799e+01,  1.97267149e+01,  2.93123640e+01, -1.29145270e+01,\n",
       "        1.96350108e+01, -6.73890854e+00,  9.81223030e-01, -1.05262599e+01,\n",
       "       -1.62328188e+01, -2.89559041e+01,  4.81003497e+01, -1.76371451e+01,\n",
       "        3.12184702e+01,  4.70370195e+01,  3.08614728e+00, -1.65331360e+01,\n",
       "       -4.16051802e+00, -2.36933242e+01, -3.24598235e+01,  1.12872179e+01,\n",
       "       -1.07293827e+01,  1.67427810e-01,  2.55051215e+01, -1.35139831e+01,\n",
       "       -2.20151539e+00,  2.86209201e+01,  1.19365199e+01,  3.86043604e+01,\n",
       "        8.30765530e-01, -2.18158558e+01, -1.47173539e+01,  1.90679992e+01,\n",
       "        1.08000542e+01, -5.76734210e-01, -1.80397790e-01,  3.20747203e+01,\n",
       "        2.89615288e+01,  6.12584646e+00,  2.23781006e+01, -2.81018086e+01,\n",
       "       -1.60131382e+01, -7.47134311e+00, -6.06403970e-01,  1.41529312e+01,\n",
       "        1.86451468e+01,  1.58589518e+01, -3.11603805e+00,  2.01599672e+00,\n",
       "        1.22329039e+01,  2.79450399e+01,  1.64176907e+01,  2.78301023e+01,\n",
       "        5.12125336e+01,  2.90940766e+01,  2.58541405e+01,  2.20263910e+01,\n",
       "        2.03183433e+01,  8.31148038e+00,  4.48622018e+00,  1.56674888e+01,\n",
       "       -5.69242263e+00, -1.88001861e+01,  1.28097687e+01, -1.79449539e+01,\n",
       "       -2.98285139e+01,  3.08710021e+01,  3.67564885e+01,  3.52898084e+01,\n",
       "       -1.21281130e+01,  3.76242180e+01,  3.85099936e+00,  1.75887499e+00,\n",
       "       -1.59264617e+01,  2.05360181e+01, -3.56322700e+00,  4.54311450e+01,\n",
       "        1.60594762e+01, -4.39583717e+00, -1.47539323e+01,  2.16825403e+01,\n",
       "        1.71362139e+01,  2.71147748e+01,  2.91502435e+01, -1.56293043e+01,\n",
       "        4.04505096e+01,  4.19031846e+01, -3.06179537e+00,  4.80393523e+01,\n",
       "        3.54155504e+01,  2.94183068e+01,  2.39798376e+01,  1.86617385e+01,\n",
       "        1.94533617e+00,  4.09757385e+01, -3.58788384e+01,  1.57568355e+00,\n",
       "        9.05986151e+00,  1.61665023e+01,  2.64089047e+01,  2.57872874e+01,\n",
       "        2.35655548e+01,  1.03232222e+01,  9.80582972e+00,  2.90827191e+01,\n",
       "       -3.63284988e+00,  3.39930171e+01, -1.85588299e+01, -2.99615561e+01,\n",
       "        1.09951009e+01, -3.83165909e+01,  3.88522369e+01, -6.88310860e+00,\n",
       "        5.25554848e+00,  3.53819852e+01,  8.24642551e+00, -4.10644965e+01,\n",
       "        1.76301025e+01,  3.50989669e+01,  9.50887567e+00, -9.49281359e+00,\n",
       "        1.75027753e+01,  3.48557465e+00,  9.73270272e+00,  2.56077975e+01,\n",
       "        1.76661885e+01,  9.55442343e+00,  3.95381855e+01,  1.21703070e+01,\n",
       "       -1.46825338e+01, -8.17347210e-01,  5.79313770e+00,  2.87108997e+01,\n",
       "       -6.98243412e+00,  9.65421867e+00,  3.05019960e+01,  5.02229208e+01,\n",
       "        1.07162608e+01,  1.45320003e+01,  1.96244455e+01,  7.27120290e-01,\n",
       "        8.94260324e+00, -8.65078085e+00,  1.49799674e+01,  2.98430210e+01,\n",
       "        4.63227082e+01,  3.29267457e+01,  1.05989370e+00, -1.79375820e+01,\n",
       "        2.54605120e+01, -5.80004896e+00,  3.34843900e+00,  3.72411996e+00,\n",
       "        3.56618086e+00,  3.40603265e+01,  3.09942046e+01, -4.22791113e+00,\n",
       "        8.68964280e+00,  1.70743396e+01,  2.93975999e+00, -1.92352663e+01,\n",
       "       -6.14161202e+00,  2.50388995e+01, -5.82653307e+00, -1.00719717e+01,\n",
       "        1.99521012e+01,  1.99224227e+01, -5.04497272e+00,  5.11133364e+01,\n",
       "       -2.15499317e+01,  1.37612019e+01,  3.26985075e+01, -5.14636530e-01,\n",
       "        6.44551486e+00,  2.70716211e+00,  6.00133977e+00,  4.40641892e+01,\n",
       "        4.37330941e+01,  6.87419623e+00,  6.09485348e+00,  2.98279489e+01,\n",
       "        6.00320081e+00,  1.71280664e+01, -2.21565332e+00,  2.00495258e+01,\n",
       "        2.24552173e+00,  1.98244086e+01,  1.37424053e+01,  4.79533328e+01,\n",
       "        1.25613376e+01,  5.56096589e+01,  3.65876156e+01, -1.81676239e+01,\n",
       "        3.18673392e+01,  1.56085753e+01, -1.52244230e+01,  5.74086487e+00,\n",
       "        4.53842431e+01,  4.09914742e+00,  3.44389877e+01,  1.46256862e+01,\n",
       "        1.34930829e+01,  9.79313720e+00,  1.54659997e+01,  7.51081995e+00,\n",
       "        2.49123495e+01,  9.25425693e+00,  1.76155700e-01,  3.34052744e+01,\n",
       "        9.15118227e+00,  3.48888123e+01,  1.93848584e+01,  4.11576159e+01,\n",
       "       -1.05412431e+01,  1.37444461e+01,  2.95056830e+00,  3.86619524e+01,\n",
       "        1.17441454e+01, -2.15785036e+01, -1.81357941e+01,  1.83849496e+01,\n",
       "       -3.40615949e+01,  7.74917447e+00,  2.81435430e+01, -6.77203800e+00,\n",
       "       -2.83757051e+01,  2.81974171e+01,  2.89404385e+01, -8.62006825e+00,\n",
       "        3.62199951e+00, -2.90646109e+00,  4.58812718e+01,  6.37806236e+00,\n",
       "       -1.70423940e-01, -1.33174015e+01, -2.35138839e+01,  1.49214172e+01,\n",
       "       -1.63012455e+01,  3.17790470e-01,  2.46005203e+01,  2.46722488e+01,\n",
       "       -1.76993537e+01,  3.80533491e+01,  1.32905835e+01, -8.31189090e-01,\n",
       "       -4.99863974e+00,  1.01960618e+01,  2.15425260e+01, -1.73760701e+01,\n",
       "       -1.11019277e+01, -8.52999013e+00,  1.79991265e+01, -3.57080209e+01,\n",
       "       -2.77000788e+01, -5.15346944e+00,  1.04948909e+01,  1.02832362e+01,\n",
       "       -4.33392771e+00,  1.45025523e+00,  6.44406667e+00,  2.53147921e+01,\n",
       "        1.99268766e+01,  4.37603114e+00, -2.64893188e+01,  3.52737684e+00])"
      ]
     },
     "execution_count": 172,
     "metadata": {},
     "output_type": "execute_result"
    }
   ],
   "source": [
    "# Expected first couple of lines:\n",
    "# array([ 1.16594614e+01,  3.71336413e+01,  4.33563146e+01,  1.62602648e+01,\n",
    "#         2.84698142e+01,  2.60448311e+01, -4.23597988e+00,  4.25279392e+01, ...\n",
    "\n",
    "score = matrix_score(calced)\n",
    "score"
   ]
  },
  {
   "attachments": {},
   "cell_type": "markdown",
   "id": "2cb7cab8",
   "metadata": {},
   "source": [
    "**11)** \n",
    "\n",
    "In the function `score_mean` below, find and return the mean of the of the entire matrix `score` (5 points)"
   ]
  },
  {
   "cell_type": "code",
   "execution_count": 173,
   "id": "8ca85dc6",
   "metadata": {},
   "outputs": [],
   "source": [
    "# Q9-11 Grading Tag:\n",
    "def score_mean(np_score):\n",
    "    features = np.random.randint(0, 100, 10000).reshape(1000,10)\n",
    "    weights = np.array([ 0.24540611,  0.31467517, -0.07656614, -0.16161533, -0.09064962,\n",
    "                    -0.00315615,  0.09609595,  0.2517064 ,  0.01100181, -0.38629211])\n",
    "    calced = calc_features(features, weights)\n",
    "    score = matrix_score(calced)\n",
    "    mean_score = np.mean(np_score)\n",
    "    return mean_score"
   ]
  },
  {
   "cell_type": "code",
   "execution_count": 174,
   "id": "667e1d86",
   "metadata": {},
   "outputs": [
    {
     "data": {
      "text/plain": [
       "9.73170897548"
      ]
     },
     "execution_count": 174,
     "metadata": {},
     "output_type": "execute_result"
    }
   ],
   "source": [
    "# Should return 9.73170897548\n",
    "score_mean(score)"
   ]
  },
  {
   "attachments": {},
   "cell_type": "markdown",
   "id": "03133442",
   "metadata": {},
   "source": [
    "**12)** \n",
    "\n",
    "In the function `classify` below, using the matrix `score`, 'classify' each record based on if they are above/below the mean as follows: <br>\n",
    "- [0] below mean <br>\n",
    "- [1] at or above mean <br>\n",
    "    \n",
    "Make a new matrix called `prediction` that has the values 0 or 1 based on the `score` matrix from 10 above. (10 points)\n",
    "\n",
    "Hint: You can use the function you made above in #11 inside this function!"
   ]
  },
  {
   "cell_type": "code",
   "execution_count": 175,
   "id": "eddf58f6",
   "metadata": {},
   "outputs": [],
   "source": [
    "# Q9-12 Grading Tag:\n",
    "def classify(np_score):\n",
    "    features = np.random.randint(0, 100, 10000).reshape(1000,10)\n",
    "    weights = np.array([ 0.24540611,  0.31467517, -0.07656614, -0.16161533, -0.09064962,\n",
    "                    -0.00315615,  0.09609595,  0.2517064 ,  0.01100181, -0.38629211])\n",
    "    calced = calc_features(features, weights)\n",
    "    score = matrix_score(calced)\n",
    "    matrix_mean = score_mean(np_score)\n",
    "    prediction = np.where(np_score >  matrix_mean , 1, 0)\n",
    "    return prediction"
   ]
  },
  {
   "cell_type": "code",
   "execution_count": 176,
   "id": "8e84a332",
   "metadata": {},
   "outputs": [
    {
     "data": {
      "text/plain": [
       "array([1, 1, 1, 1, 1, 1, 0, 1, 0, 0, 1, 0, 1, 0, 0, 0, 0, 0, 0, 1, 1, 1,\n",
       "       0, 1, 0, 1, 1, 1, 0, 1, 1, 1, 1, 0, 0, 1, 1, 0, 0, 0, 1, 1, 0, 0,\n",
       "       0, 0, 0, 0, 0, 0, 1, 1, 1, 0, 1, 1, 0, 1, 0, 1, 1, 1, 0, 1, 0, 1,\n",
       "       0, 0, 0, 1, 0, 1, 0, 0, 0, 0, 1, 1, 1, 0, 0, 0, 0, 1, 1, 0, 0, 0,\n",
       "       0, 1, 1, 0, 0, 0, 1, 1, 1, 1, 0, 0, 1, 1, 1, 1, 0, 1, 0, 0, 0, 1,\n",
       "       0, 0, 0, 1, 1, 0, 0, 1, 1, 1, 0, 0, 0, 1, 0, 0, 1, 1, 0, 0, 1, 0,\n",
       "       1, 1, 0, 0, 0, 0, 0, 1, 0, 0, 1, 0, 1, 1, 1, 1, 0, 0, 0, 1, 1, 0,\n",
       "       1, 1, 1, 0, 0, 0, 1, 1, 1, 1, 1, 0, 1, 1, 0, 0, 1, 1, 1, 1, 1, 0,\n",
       "       0, 1, 0, 0, 0, 1, 1, 0, 1, 0, 0, 0, 0, 1, 0, 1, 0, 1, 1, 0, 0, 0,\n",
       "       0, 0, 0, 0, 1, 0, 1, 0, 1, 0, 1, 1, 1, 1, 1, 0, 1, 0, 0, 0, 1, 1,\n",
       "       0, 0, 1, 0, 0, 1, 0, 1, 1, 0, 0, 1, 1, 0, 1, 1, 1, 1, 0, 0, 0, 0,\n",
       "       0, 0, 0, 0, 0, 0, 1, 1, 1, 0, 1, 0, 1, 1, 0, 1, 0, 0, 0, 1, 0, 1,\n",
       "       0, 1, 1, 0, 1, 1, 1, 1, 0, 1, 1, 1, 0, 0, 0, 0, 0, 0, 1, 1, 1, 1,\n",
       "       0, 1, 1, 0, 1, 0, 0, 1, 0, 0, 1, 1, 0, 1, 0, 1, 1, 0, 1, 1, 1, 1,\n",
       "       0, 0, 0, 1, 1, 0, 0, 1, 1, 0, 1, 1, 0, 1, 0, 0, 0, 1, 0, 1, 0, 0,\n",
       "       1, 0, 0, 1, 1, 1, 1, 0, 0, 1, 1, 1, 1, 1, 0, 0, 0, 0, 1, 0, 1, 1,\n",
       "       0, 1, 1, 0, 1, 1, 1, 1, 0, 1, 0, 0, 1, 1, 0, 0, 1, 1, 1, 0, 0, 0,\n",
       "       1, 1, 1, 0, 1, 1, 1, 1, 1, 0, 1, 1, 1, 1, 0, 0, 0, 1, 0, 1, 1, 0,\n",
       "       0, 1, 0, 0, 1, 0, 0, 1, 0, 1, 0, 0, 1, 1, 1, 1, 0, 0, 1, 1, 1, 1,\n",
       "       0, 1, 1, 0, 0, 1, 1, 1, 0, 1, 1, 0, 0, 0, 0, 0, 0, 1, 0, 0, 1, 1,\n",
       "       0, 0, 1, 0, 1, 0, 1, 0, 1, 1, 1, 1, 1, 0, 1, 0, 1, 0, 0, 0, 1, 1,\n",
       "       0, 0, 0, 0, 0, 0, 1, 1, 1, 1, 0, 0, 1, 1, 0, 0, 0, 1, 0, 1, 0, 1,\n",
       "       1, 0, 0, 1, 0, 0, 0, 0, 0, 0, 0, 0, 1, 0, 0, 1, 1, 0, 1, 1, 0, 0,\n",
       "       1, 0, 1, 1, 0, 0, 1, 0, 1, 0, 0, 0, 1, 1, 1, 1, 1, 0, 0, 0, 0, 0,\n",
       "       0, 0, 1, 1, 1, 0, 0, 1, 0, 1, 1, 0, 0, 0, 0, 1, 1, 1, 0, 1, 1, 0,\n",
       "       0, 0, 0, 1, 1, 1, 0, 1, 1, 1, 0, 1, 1, 1, 1, 0, 1, 0, 0, 0, 0, 0,\n",
       "       1, 0, 1, 0, 0, 1, 0, 0, 0, 1, 1, 1, 1, 0, 1, 0, 0, 0, 0, 0, 0, 1,\n",
       "       0, 0, 0, 0, 0, 1, 1, 1, 1, 0, 1, 1, 1, 1, 1, 0, 1, 0, 1, 1, 0, 1,\n",
       "       0, 1, 1, 1, 0, 1, 0, 0, 0, 0, 0, 0, 1, 1, 1, 1, 0, 1, 1, 0, 0, 0,\n",
       "       1, 0, 0, 0, 1, 1, 1, 1, 1, 1, 0, 1, 1, 0, 1, 1, 1, 0, 1, 0, 1, 1,\n",
       "       0, 1, 0, 1, 1, 1, 1, 0, 0, 0, 1, 0, 1, 1, 0, 0, 1, 1, 0, 1, 0, 1,\n",
       "       0, 1, 1, 0, 1, 1, 1, 1, 1, 0, 0, 1, 1, 1, 1, 0, 1, 0, 1, 1, 0, 0,\n",
       "       1, 0, 0, 0, 1, 1, 1, 0, 0, 1, 0, 0, 1, 0, 1, 1, 0, 0, 0, 1, 0, 0,\n",
       "       1, 1, 1, 1, 1, 1, 1, 1, 0, 0, 0, 1, 1, 0, 1, 0, 0, 0, 0, 0, 1, 0,\n",
       "       1, 1, 0, 0, 0, 0, 0, 1, 0, 0, 1, 0, 0, 1, 1, 1, 0, 0, 0, 1, 1, 0,\n",
       "       0, 1, 1, 0, 1, 0, 0, 0, 0, 1, 1, 1, 0, 0, 1, 1, 1, 1, 1, 1, 1, 1,\n",
       "       1, 0, 0, 1, 0, 0, 1, 0, 0, 1, 1, 1, 0, 1, 0, 0, 0, 1, 0, 1, 1, 0,\n",
       "       0, 1, 1, 1, 1, 0, 1, 1, 0, 1, 1, 1, 1, 1, 0, 1, 0, 0, 0, 1, 1, 1,\n",
       "       1, 1, 1, 1, 0, 1, 0, 0, 1, 0, 1, 0, 0, 1, 0, 0, 1, 1, 0, 0, 1, 0,\n",
       "       1, 1, 1, 0, 1, 1, 0, 0, 0, 1, 0, 0, 1, 1, 1, 1, 1, 0, 0, 0, 1, 1,\n",
       "       1, 1, 0, 0, 1, 0, 0, 0, 0, 1, 1, 0, 0, 1, 0, 0, 0, 1, 0, 0, 1, 1,\n",
       "       0, 1, 0, 1, 1, 0, 0, 0, 0, 1, 1, 0, 0, 1, 0, 1, 0, 1, 0, 1, 1, 1,\n",
       "       1, 1, 1, 0, 1, 1, 0, 0, 1, 0, 1, 1, 1, 1, 1, 0, 1, 0, 0, 1, 0, 1,\n",
       "       1, 1, 0, 1, 0, 1, 1, 0, 0, 1, 0, 0, 1, 0, 0, 1, 1, 0, 0, 0, 1, 0,\n",
       "       0, 0, 0, 1, 0, 0, 1, 1, 0, 1, 1, 0, 0, 1, 1, 0, 0, 0, 1, 0, 0, 0,\n",
       "       1, 1, 0, 0, 0, 1, 1, 0, 0, 0])"
      ]
     },
     "execution_count": 176,
     "metadata": {},
     "output_type": "execute_result"
    }
   ],
   "source": [
    "# Expected first couple of lines:\n",
    "# array([1, 1, 1, 1, 1, 1, 0, 1, 0, 0, 1, 0, 1, 0, 0, 0, 0, 0, 0, 1, 1, 1,\n",
    "#        0, 1, 0, 1, 1, 1, 0, 1, 1, 1, 1, 0, 0, 1, 1, 0, 0, 0, 1, 1, 0, 0, ...\n",
    "\n",
    "\n",
    "prediction = classify(score)\n",
    "prediction"
   ]
  },
  {
   "attachments": {},
   "cell_type": "markdown",
   "id": "11703604",
   "metadata": {},
   "source": [
    "**13)** \n",
    "\n",
    "In the function `perc_ones` below, using the `prediction` matrix, return the percentage of predictions classified as a 1 (10 points)"
   ]
  },
  {
   "cell_type": "code",
   "execution_count": 177,
   "id": "40323814",
   "metadata": {},
   "outputs": [],
   "source": [
    "# Q9-13 Grading Tag:\n",
    "def perc_ones(np_pred):\n",
    "    one_finder = np.where(np_pred == 1)[0]\n",
    "    total_ones = len(one_finder)\n",
    "    total_values = len(np_pred)\n",
    "    return total_ones / total_values"
   ]
  },
  {
   "cell_type": "code",
   "execution_count": 178,
   "id": "1dae9850",
   "metadata": {},
   "outputs": [
    {
     "data": {
      "text/plain": [
       "0.505"
      ]
     },
     "execution_count": 178,
     "metadata": {},
     "output_type": "execute_result"
    }
   ],
   "source": [
    "# Should return: 0.505\n",
    "\n",
    "perc_ones(prediction) "
   ]
  },
  {
   "attachments": {},
   "cell_type": "markdown",
   "id": "c1977e40",
   "metadata": {},
   "source": [
    "***\n",
    "\n",
    "##### Evaluation\n",
    "\n",
    "The next question makes a function to evaluate how well our algorithm's predictions performed. \n",
    "\n",
    "Run the code below to make the `truth` matrix. This matrix is 1x1000 and is the ground truth on if a result should be 0 or 1. "
   ]
  },
  {
   "cell_type": "code",
   "execution_count": 179,
   "id": "bc38a09b",
   "metadata": {},
   "outputs": [],
   "source": [
    "# Run this to make the truth matrix\n",
    "\n",
    "np.random.seed(1234)\n",
    "truth = np.random.randint(0, 2, 1000)"
   ]
  },
  {
   "attachments": {},
   "cell_type": "markdown",
   "id": "d9c812ab",
   "metadata": {},
   "source": [
    "**14)** \n",
    "\n",
    "In the function `num_correct` below, compare the `truth` matrix to our prediction matrix `prediction`. Return the number of correct predictions in a tuple of two values: (correct_zero_prediction, correct_one_prediction). (10 points)\n",
    "\n",
    "A correct_zero_prediction is where our algorithm predicts a 0 and the truth matrix is a 0. (In machine learning, we call this result a 'True Negative')\n",
    "\n",
    "A correct_one_prediction is where our algorithm predicts a 1 and the truth matrix is a 1. (In machine learning, we call this result a 'True Positive')"
   ]
  },
  {
   "cell_type": "code",
   "execution_count": 180,
   "id": "400588ca",
   "metadata": {},
   "outputs": [],
   "source": [
    "# Q9-14 Grading Tag:\n",
    "np.random.seed(1234)\n",
    "truth = np.random.randint(0, 2, 1000)\n",
    "features = np.random.randint(0, 100, 10000).reshape(1000,10)\n",
    "weights = np.array([ 0.24540611,  0.31467517, -0.07656614, -0.16161533, -0.09064962,\n",
    "                  -0.00315615,  0.09609595,  0.2517064 ,  0.01100181, -0.38629211])  \n",
    "calced = calc_features(features, weights)  \n",
    "score = matrix_score(calced) \n",
    "prediction = classify(score) \n",
    "def num_correct(np_truth, np_pred):  \n",
    "    correct_zero_prediction = np.sum(np.logical_and(prediction == 0, truth == 0))\n",
    "    correct_one_prediction = np.sum(np.logical_and(prediction == 1, truth == 1))\n",
    "    return correct_zero_prediction,correct_one_prediction "
   ]
  },
  {
   "cell_type": "code",
   "execution_count": 181,
   "id": "59f2307f",
   "metadata": {},
   "outputs": [
    {
     "data": {
      "text/plain": [
       "(233, 263)"
      ]
     },
     "execution_count": 181,
     "metadata": {},
     "output_type": "execute_result"
    }
   ],
   "source": [
    "# Should return: (233, 263)\n",
    "\n",
    "num_correct(truth, prediction)"
   ]
  }
 ],
 "metadata": {
  "kernelspec": {
   "display_name": "Python 3 (ipykernel)",
   "language": "python",
   "name": "python3"
  },
  "language_info": {
   "codemirror_mode": {
    "name": "ipython",
    "version": 3
   },
   "file_extension": ".py",
   "mimetype": "text/x-python",
   "name": "python",
   "nbconvert_exporter": "python",
   "pygments_lexer": "ipython3",
   "version": "3.10.9"
  }
 },
 "nbformat": 4,
 "nbformat_minor": 5
}
