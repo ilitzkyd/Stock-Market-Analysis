{
 "cells": [
  {
   "attachments": {},
   "cell_type": "markdown",
   "metadata": {},
   "source": [
    "## Week 3 Assignment -  DATASCI200 Introduction to Data Science Programming, UC Berkeley MIDS"
   ]
  },
  {
   "attachments": {},
   "cell_type": "markdown",
   "metadata": {},
   "source": [
    "Write code in this Jupyter Notebook to solve the following problems. Please upload this **Notebook** with your solutions to your GitHub repository and gradescope.\n",
    "\n",
    "Assignment due date: 11:59PM PST the night before the Week 4 Live Session."
   ]
  },
  {
   "attachments": {},
   "cell_type": "markdown",
   "metadata": {},
   "source": [
    "## Objectives:\n",
    "\n",
    "- More practice with while loops, if statements and gathering user inputs\n",
    "- Demonstrate use of Python data structures such as lists, tuples, and dictionaries\n",
    "- Understand how to add items to these data structures and print the contents of each to the user"
   ]
  },
  {
   "attachments": {},
   "cell_type": "markdown",
   "metadata": {},
   "source": [
    "## General Guidelines:\n",
    "\n",
    "- In each code block, do NOT delete the ### comment at the top of a cell (it's needed for the auto-grading!)\n",
    "  - Full autograder tests and results are on gradescope.\n",
    "  - You will get the full 100 points from the autograder for this assignment.\n",
    "  - You may upload and run the autograder as many times as needed in your time window to get full points\n",
    "  - The assignment needs to be named HW_Unit_03.ipynb to be graded from the autograder!\n",
    "  - The examples given are samples of how we will test/grade your code. Please ensure your code outputs the same information.\n",
    "    - In addition to the given example, the autograder will test other examples\n",
    "    - Each autograder test tells you what input it is using and the expected output\n",
    "  - The autograder once complete will show the tests that are passed and failed and your total score\n",
    "  - The autograder fails for a couple of reasons:\n",
    "    - Your code crashes with that input (for example: `Test Failed: string index out of range`)\n",
    "    - Your code output does not match the 'correct' output (for example: `Test Failed: '1 2 3 2 1' != '1 4 6 4 1'`)\n",
    "- Limited user input validation and error checking is encouraged on this assignment. Each question below will indicate the type of input that you can expect. (for example, if the question states the input will be an integer, you can expect the user to input an integer and do not need to check to ensure it is an integer versus a float or a string)\n",
    "- Adding comments in your code is strongly suggested but won't be graded.\n",
    "- If you are stuck on a problem or do not understand a question - please come to office hours or ask questions to the class slack channel (please don't post your code though). If it is a coding problem send a private email to all of the instructors at: mids-python-instructors@googlegroups.com\n",
    "- You may use any libraries from the Python Standard Library for this assignment: https://docs.python.org/3/library/\n",
    "- We also have tutors if you would like a 1 on 1 session!"
   ]
  },
  {
   "attachments": {},
   "cell_type": "markdown",
   "metadata": {},
   "source": [
    "## Grading Rubric\n",
    "\n",
    "General grading rubric guidelines / philosophy:\n",
    "\n",
    "- The total possible points will be shown for each question\n",
    "- Please read each question carefully to understand the requirements\n",
    "- Points for each question are rewarded based on how well your code fulfills those requirements\n",
    "- All of the problems have an example given to help show what is needed and how to format the answer\n",
    "\n",
    "More on grading:\n",
    "- If the question is blank / not attempted, no points will be given\n",
    "- Most points are given for code that runs (does not crash) and fulfills the requirements"
   ]
  },
  {
   "attachments": {},
   "cell_type": "markdown",
   "metadata": {
    "collapsed": true
   },
   "source": [
    "### 3-1. Pig Latin Translator (25 points)\n",
    "\n",
    "Write code that translates a name into (simplified) Pig Latin. (Please do not make this a 'real' Pig Latin translator.)  Have your script ask the user for his or her name, which can comprise first, middle, and/or last parts. For each name part, move the first letter to the end of the part and append the letters \"ay\". Make sure that only the first letter of each word in your output is capitalized. You can use the ```split()``` method on the string to create a list of the name parts. Be sure that your script can handle one, two or three name parts separated by spaces. This will likely involve a loop.\n",
    "\n",
    "Your script should re-create the following example exactly:\n",
    "\n",
    "```\n",
    "Enter your name: Paul Laskowski\n",
    "\n",
    "Aulpay Askowskilay\n",
    "```"
   ]
  },
  {
   "cell_type": "code",
   "execution_count": null,
   "metadata": {
    "collapsed": true
   },
   "outputs": [],
   "source": [
    "### Q3-1 Grading Tag: Please put your entire solution in this cell. Don't edit this line.\n",
    "OriginalName = input('Enter your name:') #User input for the name\n",
    "NewLanguage = []\n",
    "NameSplit = OriginalName.split() #Split the string the create a list\n",
    "\n",
    "for i in NameSplit: \n",
    "   FirstCharacter = i[0] #Access the first character of the string\n",
    "   WordRest=i[1:]\n",
    "   CaseLetter = FirstCharacter.lower() #Makes the first character removed lower case\n",
    "   CaseWord = WordRest.lower() #Makes the word be lower case \n",
    "   PigTranslation = \"ay\" #Pig Language Translation \n",
    "   PigConcat = CaseWord+CaseLetter + PigTranslation #Concatenates with translation \n",
    "   NewLanguage.append(PigConcat.capitalize()) #Capitalizes the first letter of the Word\n",
    "\n",
    "my_string = ' '.join([i for i in NewLanguage]) #Uses list comprehension\n",
    "print(my_string)\n",
    "    \n",
    "\n"
   ]
  },
  {
   "attachments": {},
   "cell_type": "markdown",
   "metadata": {
    "collapsed": true
   },
   "source": [
    "### 3-2. Matrix Inverter (25 points)\n",
    "\n",
    "One place where the usage of tuples is convenient is in the representation of matrices.  The values in a 2x2 matrix are labeled as follows:\n",
    "$$\n",
    "\\begin{bmatrix}\n",
    "    a       & b  \\\\\n",
    "    c       & d\n",
    "\\end{bmatrix}\n",
    "$$\n",
    "\n",
    "Write code that asks the user for a text string including the four **numbers**, a, b, c, and d, separated by spaces.  You can use the `split()` method on the string to create a list of the four values in order.\n",
    "\n",
    "Create a tuple that represents each row, then create a tuple that contains those two tuples.  It should have the form `((a, b), (c, d))`.  **Print this representation.**\n",
    "\n",
    "The inverse of the matrix above is given by the formula:\n",
    "\n",
    "$$\n",
    "\\frac{1}{ad-bc} \\begin{bmatrix}\n",
    "    d       & -b  \\\\\n",
    "    -c       & a\n",
    "\\end{bmatrix}\n",
    "$$\n",
    "\n",
    "Recall that multiplying a matrix by a number effectively multiplies each element of the matrix by that number.\n",
    "\n",
    "Compute the inverse of the given matrix, again represented as nested tuples and **print this out**. \n",
    "\n",
    "Answer format:\n",
    "- The numbers below are fomatted to 4 decimal places but you do not need to do this \n",
    "- The outputted numbers do need to be floats\n",
    "\n",
    "```\n",
    "Please enter four numbers separated by spaces: 1 2 3 4\n",
    "\n",
    "matrix: ((1.0000, 2.0000), (3.0000, 4.0000))\n",
    "inverse: ((-2.0000, 1.0000), (1.5000, -0.5000))\n",
    "```"
   ]
  },
  {
   "cell_type": "code",
   "execution_count": null,
   "metadata": {},
   "outputs": [],
   "source": [
    "### Q3-2 Grading Tag: Please put your entire solution in this cell. Don't edit this line.\n",
    "\n",
    "\n",
    "UserMatrix = input('Please enter four numbers separated by spaces:')\n",
    "MatrixSplit = UserMatrix.split()\n",
    "MatrixSplit = [float(i) for i in MatrixSplit]\n",
    "\n",
    "\n",
    "TupleFirstRow = (MatrixSplit[0:2])\n",
    "TupleSecondRow = (MatrixSplit[2:])\n",
    "RowConcat = (TupleFirstRow,TupleSecondRow)\n",
    "a=RowConcat[0][0]\n",
    "b=RowConcat[0][1]\n",
    "c=RowConcat[1][0]\n",
    "d=RowConcat[1][1]\n",
    "\n",
    "Fraction = 1/(a*d-b*c)\n",
    "\n",
    "FirstRowTuple = (round(Fraction * RowConcat[1][1], 4), round(Fraction * -RowConcat[0][1], 4))\n",
    "SecondRowTuple = (round(Fraction * -RowConcat[1][0], 4), round(Fraction * RowConcat[0][0], 4))\n",
    "InvertedMatrix = (FirstRowTuple, SecondRowTuple)\n",
    "\n",
    "\n",
    "print(\"matrix:\",f\"(({RowConcat[0][0]:.4f}, {RowConcat[0][1]:.4f}), ({RowConcat[1][0]:.4f}, {RowConcat[1][1]:.4f}))\")\n",
    "print(\"inverse:\",f\"(({InvertedMatrix[0][0]:.4f}, {InvertedMatrix[0][1]:.4f}), ({InvertedMatrix[1][0]:.4f}, {InvertedMatrix[1][1]:.4f}))\")\n",
    "\n",
    "\n"
   ]
  },
  {
   "attachments": {},
   "cell_type": "markdown",
   "metadata": {},
   "source": [
    "### 3-3. Fibonacci (25 points)\n",
    "\n",
    "The Fibonacci numbers begin with 1, 1.  After the first two numbers, each number is the sum of the previous two. 1 + 1 = 2, so 2 is the third number. Then 1 + 2 = 3, so 3 is the next one, and so on. Write a script that prompts the user for an integer number, then prints all the Fibonacci numbers that are less than or equal to the input, in order.\n",
    "\n",
    "Example:\n",
    "```\n",
    "Enter a number: 15\n",
    "\n",
    "1 1 2 3 5 8 13\n",
    "```"
   ]
  },
  {
   "cell_type": "code",
   "execution_count": null,
   "metadata": {
    "collapsed": true
   },
   "outputs": [],
   "source": [
    "### Q3-3 Grading Tag: Please put your entire solution in this cell. Don't edit this line.\n",
    "\n",
    "fibonacci = int(input(\"Enter a number:\"))\n",
    "\n",
    "fib_sequence= \"\"  \n",
    "firstValue = 1\n",
    "secondValue = 1\n",
    "\n",
    "\n",
    "while firstValue< fibonacci:\n",
    "    fib_sequence += str(firstValue) + \" \"  \n",
    "    copyFirst = firstValue  \n",
    "    firstValue = secondValue  \n",
    "    secondValue = copyFirst + secondValue\n",
    "\n",
    "print(fib_sequence.rstrip()) \n",
    "\n",
    "\n"
   ]
  },
  {
   "attachments": {},
   "cell_type": "markdown",
   "metadata": {},
   "source": [
    "### 3-4. Pascal's Triangle (25 points)\n",
    "\n",
    "Pascal's triangle is a triangle of numbers that is computed as follows. The first row contains a 1.  Each row after that begins and ends with a 1, and every other number is the sum of the two numbers above it. The first six rows of Pascal's triangle are shown below.\n",
    "```\n",
    "      1\n",
    "     1 1\n",
    "    1 2 1\n",
    "  1  3 3  1\n",
    " 1 4  6  4 1\n",
    "1 5 10 10 5 1\n",
    "```\n",
    "Write a script to compute and print the *n*th row of Pascal's triangle. Do not spend time trying to print the entire triangle in the format above (it is for illustrative purposes only).  The input will be the row number as an integer starting with row 1 as the first row.\n",
    "\n",
    "** Hint: Think about the type of objects you need to solve the problem. What are you iterating over? It may help to calculate a couple of rows by hand and think about the process you take. **\n",
    "\n",
    "Example:\n",
    "```\n",
    "Enter a row number: 5\n",
    "\n",
    "1 4 6 4 1\n",
    "```\n"
   ]
  },
  {
   "cell_type": "code",
   "execution_count": null,
   "metadata": {
    "collapsed": true
   },
   "outputs": [],
   "source": [
    "### Q3-4 Grading Tag: Please put your entire solution in this cell. Don't edit this line.\n",
    "Pascal = int(input(\"Enter the row number of Pascal's triangle: \"))\n",
    "\n",
    "Addrow = \"\" \n",
    "\n",
    "for i in range(Pascal):\n",
    "    firstValue=[1]\n",
    "    Addrow = firstValue + [Addrow[j] + Addrow[j+1] \n",
    "    for j in range(i-1)] + firstValue  \n",
    "\n",
    "rowFormat = ' '.join(map(str, Addrow))\n",
    "print(rowFormat)\n",
    "\n"
   ]
  },
  {
   "attachments": {},
   "cell_type": "markdown",
   "metadata": {},
   "source": [
    "## If you have feedback for this homework, please submit it using the link below:\n",
    "\n",
    "http://goo.gl/forms/74yCiQTf6k"
   ]
  }
 ],
 "metadata": {
  "anaconda-cloud": {},
  "kernelspec": {
   "display_name": "Python 3",
   "language": "python",
   "name": "python3"
  },
  "language_info": {
   "codemirror_mode": {
    "name": "ipython",
    "version": 3
   },
   "file_extension": ".py",
   "mimetype": "text/x-python",
   "name": "python",
   "nbconvert_exporter": "python",
   "pygments_lexer": "ipython3",
   "version": "3.8.11"
  }
 },
 "nbformat": 4,
 "nbformat_minor": 1
}
